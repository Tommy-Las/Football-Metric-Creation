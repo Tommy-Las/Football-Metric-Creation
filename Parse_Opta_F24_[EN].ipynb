{
  "cells": [
    {
      "cell_type": "markdown",
      "source": [
        "# **FUNCTIONS**  \n",
        "\n",
        "Read the code if you want, if not just run the next cell."
      ],
      "metadata": {
        "id": "Gw-4KhKk7io-"
      }
    },
    {
      "cell_type": "code",
      "execution_count": 1,
      "metadata": {
        "id": "BLm4xieXeX5k"
      },
      "outputs": [],
      "source": [
        "import xml.etree.ElementTree as et\n",
        "import pandas as pd\n",
        "from IPython.core import display as ICD\n",
        "from pandas import json_normalize\n",
        "import pandas as pd\n",
        "import tqdm as tqdm\n",
        "import os\n",
        "pd.set_option('display.max_rows', None)\n",
        "pd.set_option('display.max_columns', None)\n",
        "from datetime import datetime\n",
        "import time\n",
        "\n",
        "#@title\n",
        "types_dict={1:\"Pass\",2:\"Offside Pass\",3:\"Take On\",4:\"Foul\",5:\"Out\",6:\"Corner Awarded\",7:\"Tackle\",8:\"Interception\",9:\"Turnover\",10:\"Save\",11:\"Claim\",12:\"Clearance\",13:\"Miss\",14:\"Post\",15:\"Attempt Saved\",16:\"Goal\",17:\"Card\",18:\"Player off\",19:\"Player on\",20:\"Player retired\",21:\"Player returns\",22:\"Player becomes goalkeeper\",23:\"Goalkeeper becomes player\",24:\"Condition change\",25:\"Official change\",27:\"Start delay\",28:\"End delay\",30:\"End\",31:\"Picked an orange\",32:\"Start\",34:\"Team set up\",35:\"Player changed position\",36:\"Player changed Jersey number\",37:\"Collection End\",38:\"Temp_Goal\",39:\"Temp_Attempt\",40:\"Formation change\",41:\"Punch\",42:\"Good Skill\",43:\"Deleted event\",44:\"Aerial\",45:\"Challenge\",47:\"Rescinded card\",49:\"Ball recovery\",50:\"Dispossessed\",51:\"Error\",52:\"Keeper pick-up\",53:\"Cross not claimed\",54:\"Smother\",55:\"Offside provoked\",56:\"Shield ball opp\",57:\"Foul throw-in\",58:\"Penalty faced\",59:\"Keeper Sweeper\",60:\"Chance missed\",61:\"Ball touch\",63:\"Temp_Save\",64:\"Resume\",65:\"Contentious referee decision\",67:\"50/50\",68:\"Referee drop ball\",69:\"Failed To Block\",72:\"Caught offside\",73:\"Other Ball Contact\",74:\"Blocked pass\"};\n",
        "types = pd.DataFrame.from_dict(types_dict,orient='index').reset_index()\n",
        "types.columns=[\"type_id\",\"event_name\"]\n",
        "\n",
        "qualifiers_dict={1:\"Long ball\",2:\"Cross\",3:\"Head pass\",4:\"Through ball\",5:\"Free kick taken\",6:\"Corner taken\",7:\"Players caught offside\",8:\"Goal disallowed\",9:\"Penalty\",10:\"Hand\",11:\"6-seconds violation\",12:\"Dangerous play\",13:\"Foul\",14:\"Last line\",15:\"Head\",16:\"Small box-centre\",17:\"Box-centre\",18:\"Out of box-centre\",19:\"35+ centre\",20:\"Right footed\",21:\"Other body part\",22:\"Regular play\",23:\"Fast break\",24:\"Set piece\",25:\"From corner\",26:\"Free kick\",28:\"Own goal\",29:\"Assisted\",30:\"Involved\",31:\"Yellow Card\",32:\"Second yellow\",33:\"Red card\",34:\"Referee abuse\",35:\"Argument\",36:\"Fight\",37:\"Time wasting\",38:\"Excessive celebration\",39:\"Crowd interaction\",40:\"Other reason\",41:\"Injury\",42:\"Tactical\",44:\"Player position\",49:\"Attendance figure\",50:\"Official position\",51:\"Official ID\",53:\"Injured player id\",54:\"End cause\",55:\"Related event ID\",56:\"Zone\",57:\"End type\",59:\"Jersey number\",60:\"Small box-right\",61:\"Small box-left\",62:\"Box-deep right\",63:\"Box-right\",64:\"Box-left\",65:\"Box-deep left\",66:\"Out of box-deep right\",67:\"Out of box-right\",68:\"Out of box-left\",69:\"Out of box-deep left\",70:\"35+ right\",71:\"35+ left\",72:\"Left footed\",73:\"Left\",74:\"High\",75:\"Right\",76:\"Low left\",77:\"High left\",78:\"Low centre\",79:\"High centre\",80:\"Low right\",81:\"High right\",82:\"Blocked\",83:\"Close left\",84:\"Close right\",85:\"Close high\",86:\"Close left and high\",87:\"Close right and high\",88:\"High claim\",89:\"1 on 1\",90:\"Deflected save\",91:\"Dive and deflect\",92:\"Catch\",93:\"Dive and catch\",94:\"Def block\",95:\"Back pass\",96:\"Corner situation\",97:\"Direct free\",100:\"Six yard blocked\",101:\"Saved off line\",102:\"Goal mouth y co-ordinate\",103:\"Goal mouth z co-ordinate\",106:\"Attacking Pass\",107:\"Throw-in\",108:\"Volley\",109:\"Overhead\",110:\"Half Volley\",111:\"Diving Header\",112:\"Scramble\",113:\"Strong\",114:\"Weak\",115:\"Rising\",116:\"Dipping\",117:\"Lob\",118:\"One Bounce\",119:\"Few Bounces\",120:\"Swerve Left\",121:\"Swerve Right\",122:\"Swerve Moving\",123:\"Keeper Throw\",124:\"Goal Kick\",127:\"Direction of play\",128:\"Punch\",130:\"Team formation\",131:\"Team player formation\",132:\"Dive\",133:\"Deflection\",134:\"Far Wide Left\",135:\"Far Wide Right\",136:\"Keeper Touched\",137:\"Keeper Saved\",138:\"Hit Woodwork\",139:\"Own Player\",140:\"Pass End X\",141:\"Pass End Y\",144:\"Deleted event type\",145:\"Formation slot\",146:\"Blocked x co-ordinate\",147:\"Blocked y co-ordinate\",153:\"Not past goal line\",154:\"Intentional assist\",155:\"Chipped\",156:\"Lay-off\",157:\"Launch\",158:\"Persistent infringement\",159:\"Foul and abusive language\",160:\"Throw-in set piece\",161:\"Encroachment\",162:\"Leaving field\",163:\"Entering field\",164:\"Spitting\",165:\"Professional foul\",166:\"Handling on the line\",167:\"Out of play\",168:\"Flick-on\",169:\"Leading to attempt\",170:\"Leading to goal\",171:\"Rescinded card\",172:\"No impact on timing\",173:\"Parried safe\",174:\"Parried danger\",175:\"Fingertip\",176:\"Caught\",177:\"Collected\",178:\"Standing\",179:\"Diving\",180:\"Stooping\",181:\"Reaching\",182:\"Hands\",183:\"Feet\",184:\"Dissent\",185:\"Blocked cross\",186:\"Scored\",187:\"Saved\",188:\"Missed\",189:\"Player not visible\",190:\"From shot off target\",191:\"Off the ball foul\",192:\"Block by hand\",194:\"Captain\",195:\"Pull Back\",196:\"Switch of play\",197:\"Team kit\",198:\"GK hoof\",199:\"Gk kick from hands\",200:\"Referee stop\",201:\"Referee delay\",202:\"Weather problem\",203:\"Crowd trouble\",204:\"Fire\",205:\"Object thrown on pitch\",206:\"Spectator on pitch\",207:\"Awaiting officials decision\",208:\"Referee Injury\",209:\"Game end\",210:\"Assist\",211:\"Overrun\",212:\"Length\",213:\"Angle\",214:\"Big Chance\",215:\"Individual Play\",216:\"2nd related event ID\",217:\"2nd assisted\",218:\"2nd assist\",219:\"Players on both posts\",220:\"Player on near post\",221:\"Player on far post\",222:\"No players on posts\",223:\"In-swinger\",224:\"Out-swinger\",225:\"Straight\",226:\"Suspended\",227:\"Resume\",228:\"Own shot blocked\",229:\"Post-match complete\",230:\"GK X Coordinate\",231:\"GK Y Coordinate\",232:\"Unchallenged\"};\n",
        "qualifiers = pd.DataFrame.from_dict(qualifiers_dict,orient='index').reset_index()\n",
        "qualifiers.columns = [\"qualifier_id\",\"description\"]\n",
        "\n",
        "qualifiers_dict2 = {str(key): str(value) for key, value in qualifiers_dict.items()}\n",
        "\n",
        "\n",
        "def parsef24(F24file):\n",
        "  tree = et.ElementTree(file = F24file)\n",
        "  games = tree.getroot()\n",
        "  gameinfo = games.findall('Game')\n",
        "  gameinfo = gameinfo[0]\n",
        "  game_id = gameinfo.get('id')\n",
        "  home_team_id = gameinfo.get('home_team_id')\n",
        "  home_team_name = gameinfo.get('home_team_name')\n",
        "  away_team_id = gameinfo.get('away_team_id')\n",
        "  away_team_name = gameinfo.get('away_team_name')\n",
        "  competition_id = gameinfo.get('competition_id')\n",
        "  competition_name = gameinfo.get('competition_name')\n",
        "  season_id = gameinfo.get('season_id')\n",
        "\n",
        "  global match_events\n",
        "  match_events = pd.DataFrame()\n",
        "  for game in games:\n",
        "      for event in game:\n",
        "          evento = json_normalize(event.attrib)\n",
        "          mylist = []\n",
        "          for q in event:\n",
        "            mylist.append(q.attrib)\n",
        "          evento[\"qualifiers\"] = [\"a\"]\n",
        "          evento.at[0,\"qualifiers\"] = mylist\n",
        "          match_events = pd.concat([match_events,evento])\n",
        "  match_events[[\"id\",\"event_id\",\"type_id\",\"period_id\",\"min\",\"sec\"]] = match_events[[\"id\",\"event_id\",\"type_id\",\"period_id\",\"min\",\"sec\"]].astype(int)\n",
        "  match_events[[\"y\",\"x\"]] = match_events[[\"y\",\"x\"]].astype(float)\n",
        "  match_events = pd.merge(match_events,types, on=\"type_id\", how = \"left\")\n",
        "  match_events = match_events[ ['id',\"event_id\",\"type_id\", \"event_name\" ]+ [ col for col in match_events.columns if col not in ['id',\"event_id\",\"type_id\", \"event_name\" ] ] ]\n",
        "  match_events['competition_id'] = competition_id\n",
        "  match_events['game_id'] = game_id\n",
        "  match_events['home_team_id'] = home_team_id\n",
        "  match_events['home_team_name'] = home_team_name\n",
        "  match_events['away_team_id'] = away_team_id\n",
        "  match_events['away_team_name'] = away_team_name\n",
        "  match_events['competition_id'] = competition_id\n",
        "  match_events['competition_name'] = competition_name\n",
        "  match_events['season_id'] = season_id\n",
        "  match_events['competition_id'] = competition_id\n",
        "\n",
        "def explode_event(nome_df,id_evento,mytresh):\n",
        "  global exploded_df\n",
        "  exploded_df = pd.DataFrame()\n",
        "  nome_df=nome_df[nome_df[\"type_id\"]==id_evento]\n",
        "  allqualifiers = pd.DataFrame()\n",
        "  for i in range(len(nome_df)):\n",
        "    qualifiers_detailed = json_normalize(nome_df.qualifiers.iloc[i]).T.reset_index().drop(\"index\",axis=1).fillna(\"yes\")\n",
        "    qualifiers_detailed.columns = list(qualifiers_detailed.iloc[1])\n",
        "    qualifiers_detailed = qualifiers_detailed.drop(labels=[0,1], axis=0)\n",
        "    qualifiers_detailed.rename(columns=qualifiers_dict2,inplace=True)\n",
        "    qualifiers_detailed[\"id\"] = nome_df.id.iloc[i]\n",
        "    allqualifiers = pd.concat([allqualifiers,qualifiers_detailed])\n",
        "  exploded_df = pd.concat([exploded_df,pd.merge(nome_df.drop(\"qualifiers\", axis=1), allqualifiers.reindex(sorted(allqualifiers.columns), axis=1).reset_index()\\\n",
        "                                            .drop(\"index\", axis=1).dropna(thresh=len(allqualifiers)*mytresh, axis=1), on=\"id\", how=\"outer\")]).fillna(\"-\")"
      ]
    },
    {
      "cell_type": "markdown",
      "source": [
        "#**PLEASE READ**:"
      ],
      "metadata": {
        "id": "MdkM2wYYKu9E"
      }
    },
    {
      "cell_type": "markdown",
      "metadata": {
        "id": "TKpNYu-P9Mpe"
      },
      "source": [
        "\n",
        "**types** - DataFrame with all the IDs of event types and their respective names. Print 'types.head()' to get an idea of the content.\n",
        "\n",
        "\n",
        "**qualifiers** - DataFrame with all the IDs of qualifiers and their respective names.\n",
        "Print 'qualifiers.head()' to get an idea of the content\n",
        "\n",
        "\n",
        "\n",
        "---\n",
        "\n",
        "\n",
        "\n",
        "\n",
        "\n",
        "\n",
        "\n",
        "**parsef24** - Function that transforms an Opta F24 XML feed into a pandas DataFrame named match_events. To be executed correctly, it should receive the XML file's name as a parameter (which should already be loaded into Google Colab).\n",
        "Print 'match_events.head(15)' to get an idea of the content.\n",
        "\n",
        "\n",
        "\n",
        "---\n",
        "\n",
        "\n",
        "\n",
        "\n",
        "**explode_event** - Function that takes the DataFrame 'match_events' (or another one filtered by you) and the type of event you want, \"exploding\" all qualifiers into columns to create a new DataFrame named \"exploded_df\". The last parameter is the threshold that defines the minimum percentage of non-null values that the columns must contain. If it is 1, it will return only columns with no NaN values, while if it is 0, it returns all columns.\n",
        "\n",
        "\n",
        "Example:\n",
        "```\n",
        "explode_event(match_events, 1, 0.15)\n",
        "```"
      ]
    },
    {
      "cell_type": "markdown",
      "source": [
        "# **START**"
      ],
      "metadata": {
        "id": "fjRrAIyKK8Hw"
      }
    },
    {
      "cell_type": "code",
      "execution_count": null,
      "metadata": {
        "id": "WD_rwWtP4uL7"
      },
      "outputs": [],
      "source": [
        "# START HERE:\n",
        "\n",
        "parsef24(\"/content/f24-23-2022-2301966-eventdetails.xml\")\n",
        "\n",
        "# The parsef24 function will generate a new DataFrame called \"match_events\". Print \"match_events.info()\" to check the outcome."
      ]
    },
    {
      "cell_type": "code",
      "source": [
        "# EXPLODE_EVENTS\n",
        "\n",
        "explode_event(match_events, 1, 0)\n",
        "# The explode_event function will generate a new DataFrame called \"exploded_df\". Print \"exploded_df.info()\" to check the outcome."
      ],
      "metadata": {
        "id": "7_6RNqi_W4m0"
      },
      "execution_count": null,
      "outputs": []
    },
    {
      "cell_type": "code",
      "source": [],
      "metadata": {
        "id": "OSG1iJgYoaNG"
      },
      "execution_count": null,
      "outputs": []
    },
    {
      "cell_type": "code",
      "source": [],
      "metadata": {
        "id": "s7QVBnUsofwt"
      },
      "execution_count": null,
      "outputs": []
    }
  ],
  "metadata": {
    "colab": {
      "provenance": [],
      "collapsed_sections": [
        "Gw-4KhKk7io-",
        "MdkM2wYYKu9E"
      ]
    },
    "kernelspec": {
      "display_name": "Python 3",
      "name": "python3"
    },
    "language_info": {
      "name": "python"
    }
  },
  "nbformat": 4,
  "nbformat_minor": 0
}