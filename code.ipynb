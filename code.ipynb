{
 "cells": [
  {
   "cell_type": "markdown",
   "metadata": {},
   "source": [
    "Based on the F24 feeds that OPTA has made available to us, I challenge you to create a metric and calculate it for all the players or teams in one of the leagues, then analyze the results. \n",
    "\n",
    "Depending on the metric, it may be interesting to calculate it only for players in a certain position, only for actions carried out in a certain area of the pitch, only at a certain moment in the game or even only under certain gamestate conditions (result on the scoreboard), for example: passes missed by central defenders in the last 15 minutes of each game when the team is losing. It can be a collective or individual metric, with total freedom to create based on the data we have, as long as it is then applied to all teams/players and the results are contextualized."
   ]
  },
  {
   "cell_type": "code",
   "execution_count": null,
   "metadata": {},
   "outputs": [
    {
     "ename": "",
     "evalue": "",
     "output_type": "error",
     "traceback": [
      "\u001b[1;31mRunning cells with 'Python 3.12.3' requires the ipykernel package.\n",
      "\u001b[1;31mRun the following command to install 'ipykernel' into the Python environment. \n",
      "\u001b[1;31mCommand: '\"c:/Users/Tommy Las/AppData/Local/Programs/Python/Python312/python.exe\" -m pip install ipykernel -U --user --force-reinstall'"
     ]
    }
   ],
   "source": [
    "print(\"hello world\")"
   ]
  }
 ],
 "metadata": {
  "kernelspec": {
   "display_name": "Python 3",
   "language": "python",
   "name": "python3"
  },
  "language_info": {
   "name": "python",
   "version": "3.12.3"
  }
 },
 "nbformat": 4,
 "nbformat_minor": 2
}
