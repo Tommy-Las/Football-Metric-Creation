{
 "cells": [
  {
   "cell_type": "markdown",
   "metadata": {},
   "source": [
    "Based on the F24 feeds that OPTA has made available to us, I challenge you to create a metric and calculate it for all the players or teams in one of the leagues, then analyze the results. \n",
    "\n",
    "Depending on the metric, it may be interesting to calculate it only for players in a certain position, only for actions carried out in a certain area of the pitch, only at a certain moment in the game or even only under certain gamestate conditions (result on the scoreboard), for example: passes missed by central defenders in the last 15 minutes of each game when the team is losing. It can be a collective or individual metric, with total freedom to create based on the data we have, as long as it is then applied to all teams/players and the results are contextualized."
   ]
  }
 ],
 "metadata": {
  "kernelspec": {
   "display_name": "Python 3",
   "language": "python",
   "name": "python3"
  },
  "language_info": {
   "name": "python",
   "version": "3.12.3"
  }
 },
 "nbformat": 4,
 "nbformat_minor": 2
}
