{
  "cells": [
    {
      "cell_type": "markdown",
      "metadata": {
        "id": "Gw-4KhKk7io-"
      },
      "source": [
        "# **PARSING FUNCTIONS**  \n",
        "\n",
        "Read the code if you want, if not just run the next cell."
      ]
    },
    {
      "cell_type": "code",
      "execution_count": 2,
      "metadata": {
        "id": "BLm4xieXeX5k"
      },
      "outputs": [],
      "source": [
        "import xml.etree.ElementTree as et\n",
        "import pandas as pd\n",
        "from IPython.core import display as ICD\n",
        "from pandas import json_normalize\n",
        "import pandas as pd\n",
        "import tqdm as tqdm\n",
        "import os\n",
        "pd.set_option('display.max_rows', None)\n",
        "pd.set_option('display.max_columns', None)\n",
        "from datetime import datetime\n",
        "import time\n",
        "\n",
        "#@title\n",
        "types_dict={1:\"Pass\",2:\"Offside Pass\",3:\"Take On\",4:\"Foul\",5:\"Out\",6:\"Corner Awarded\",7:\"Tackle\",8:\"Interception\",9:\"Turnover\",10:\"Save\",11:\"Claim\",12:\"Clearance\",13:\"Miss\",14:\"Post\",15:\"Attempt Saved\",16:\"Goal\",17:\"Card\",18:\"Player off\",19:\"Player on\",20:\"Player retired\",21:\"Player returns\",22:\"Player becomes goalkeeper\",23:\"Goalkeeper becomes player\",24:\"Condition change\",25:\"Official change\",27:\"Start delay\",28:\"End delay\",30:\"End\",31:\"Picked an orange\",32:\"Start\",34:\"Team set up\",35:\"Player changed position\",36:\"Player changed Jersey number\",37:\"Collection End\",38:\"Temp_Goal\",39:\"Temp_Attempt\",40:\"Formation change\",41:\"Punch\",42:\"Good Skill\",43:\"Deleted event\",44:\"Aerial\",45:\"Challenge\",47:\"Rescinded card\",49:\"Ball recovery\",50:\"Dispossessed\",51:\"Error\",52:\"Keeper pick-up\",53:\"Cross not claimed\",54:\"Smother\",55:\"Offside provoked\",56:\"Shield ball opp\",57:\"Foul throw-in\",58:\"Penalty faced\",59:\"Keeper Sweeper\",60:\"Chance missed\",61:\"Ball touch\",63:\"Temp_Save\",64:\"Resume\",65:\"Contentious referee decision\",67:\"50/50\",68:\"Referee drop ball\",69:\"Failed To Block\",72:\"Caught offside\",73:\"Other Ball Contact\",74:\"Blocked pass\"};\n",
        "types = pd.DataFrame.from_dict(types_dict,orient='index').reset_index()\n",
        "types.columns=[\"type_id\",\"event_name\"]\n",
        "\n",
        "qualifiers_dict={1:\"Long ball\",2:\"Cross\",3:\"Head pass\",4:\"Through ball\",5:\"Free kick taken\",6:\"Corner taken\",7:\"Players caught offside\",8:\"Goal disallowed\",9:\"Penalty\",10:\"Hand\",11:\"6-seconds violation\",12:\"Dangerous play\",13:\"Foul\",14:\"Last line\",15:\"Head\",16:\"Small box-centre\",17:\"Box-centre\",18:\"Out of box-centre\",19:\"35+ centre\",20:\"Right footed\",21:\"Other body part\",22:\"Regular play\",23:\"Fast break\",24:\"Set piece\",25:\"From corner\",26:\"Free kick\",28:\"Own goal\",29:\"Assisted\",30:\"Involved\",31:\"Yellow Card\",32:\"Second yellow\",33:\"Red card\",34:\"Referee abuse\",35:\"Argument\",36:\"Fight\",37:\"Time wasting\",38:\"Excessive celebration\",39:\"Crowd interaction\",40:\"Other reason\",41:\"Injury\",42:\"Tactical\",44:\"Player position\",49:\"Attendance figure\",50:\"Official position\",51:\"Official ID\",53:\"Injured player id\",54:\"End cause\",55:\"Related event ID\",56:\"Zone\",57:\"End type\",59:\"Jersey number\",60:\"Small box-right\",61:\"Small box-left\",62:\"Box-deep right\",63:\"Box-right\",64:\"Box-left\",65:\"Box-deep left\",66:\"Out of box-deep right\",67:\"Out of box-right\",68:\"Out of box-left\",69:\"Out of box-deep left\",70:\"35+ right\",71:\"35+ left\",72:\"Left footed\",73:\"Left\",74:\"High\",75:\"Right\",76:\"Low left\",77:\"High left\",78:\"Low centre\",79:\"High centre\",80:\"Low right\",81:\"High right\",82:\"Blocked\",83:\"Close left\",84:\"Close right\",85:\"Close high\",86:\"Close left and high\",87:\"Close right and high\",88:\"High claim\",89:\"1 on 1\",90:\"Deflected save\",91:\"Dive and deflect\",92:\"Catch\",93:\"Dive and catch\",94:\"Def block\",95:\"Back pass\",96:\"Corner situation\",97:\"Direct free\",100:\"Six yard blocked\",101:\"Saved off line\",102:\"Goal mouth y co-ordinate\",103:\"Goal mouth z co-ordinate\",106:\"Attacking Pass\",107:\"Throw-in\",108:\"Volley\",109:\"Overhead\",110:\"Half Volley\",111:\"Diving Header\",112:\"Scramble\",113:\"Strong\",114:\"Weak\",115:\"Rising\",116:\"Dipping\",117:\"Lob\",118:\"One Bounce\",119:\"Few Bounces\",120:\"Swerve Left\",121:\"Swerve Right\",122:\"Swerve Moving\",123:\"Keeper Throw\",124:\"Goal Kick\",127:\"Direction of play\",128:\"Punch\",130:\"Team formation\",131:\"Team player formation\",132:\"Dive\",133:\"Deflection\",134:\"Far Wide Left\",135:\"Far Wide Right\",136:\"Keeper Touched\",137:\"Keeper Saved\",138:\"Hit Woodwork\",139:\"Own Player\",140:\"Pass End X\",141:\"Pass End Y\",144:\"Deleted event type\",145:\"Formation slot\",146:\"Blocked x co-ordinate\",147:\"Blocked y co-ordinate\",153:\"Not past goal line\",154:\"Intentional assist\",155:\"Chipped\",156:\"Lay-off\",157:\"Launch\",158:\"Persistent infringement\",159:\"Foul and abusive language\",160:\"Throw-in set piece\",161:\"Encroachment\",162:\"Leaving field\",163:\"Entering field\",164:\"Spitting\",165:\"Professional foul\",166:\"Handling on the line\",167:\"Out of play\",168:\"Flick-on\",169:\"Leading to attempt\",170:\"Leading to goal\",171:\"Rescinded card\",172:\"No impact on timing\",173:\"Parried safe\",174:\"Parried danger\",175:\"Fingertip\",176:\"Caught\",177:\"Collected\",178:\"Standing\",179:\"Diving\",180:\"Stooping\",181:\"Reaching\",182:\"Hands\",183:\"Feet\",184:\"Dissent\",185:\"Blocked cross\",186:\"Scored\",187:\"Saved\",188:\"Missed\",189:\"Player not visible\",190:\"From shot off target\",191:\"Off the ball foul\",192:\"Block by hand\",194:\"Captain\",195:\"Pull Back\",196:\"Switch of play\",197:\"Team kit\",198:\"GK hoof\",199:\"Gk kick from hands\",200:\"Referee stop\",201:\"Referee delay\",202:\"Weather problem\",203:\"Crowd trouble\",204:\"Fire\",205:\"Object thrown on pitch\",206:\"Spectator on pitch\",207:\"Awaiting officials decision\",208:\"Referee Injury\",209:\"Game end\",210:\"Assist\",211:\"Overrun\",212:\"Length\",213:\"Angle\",214:\"Big Chance\",215:\"Individual Play\",216:\"2nd related event ID\",217:\"2nd assisted\",218:\"2nd assist\",219:\"Players on both posts\",220:\"Player on near post\",221:\"Player on far post\",222:\"No players on posts\",223:\"In-swinger\",224:\"Out-swinger\",225:\"Straight\",226:\"Suspended\",227:\"Resume\",228:\"Own shot blocked\",229:\"Post-match complete\",230:\"GK X Coordinate\",231:\"GK Y Coordinate\",232:\"Unchallenged\"};\n",
        "qualifiers = pd.DataFrame.from_dict(qualifiers_dict,orient='index').reset_index()\n",
        "qualifiers.columns = [\"qualifier_id\",\"description\"]\n",
        "\n",
        "qualifiers_dict2 = {str(key): str(value) for key, value in qualifiers_dict.items()}\n",
        "\n",
        "\n",
        "def parsef24(F24file):\n",
        "  tree = et.ElementTree(file = F24file)\n",
        "  games = tree.getroot()\n",
        "  gameinfo = games.findall('Game')\n",
        "  gameinfo = gameinfo[0]\n",
        "  game_id = gameinfo.get('id')\n",
        "  home_team_id = gameinfo.get('home_team_id')\n",
        "  home_team_name = gameinfo.get('home_team_name')\n",
        "  away_team_id = gameinfo.get('away_team_id')\n",
        "  away_team_name = gameinfo.get('away_team_name')\n",
        "  competition_id = gameinfo.get('competition_id')\n",
        "  competition_name = gameinfo.get('competition_name')\n",
        "  season_id = gameinfo.get('season_id')\n",
        "\n",
        "  global match_events\n",
        "  match_events = pd.DataFrame()\n",
        "  for game in games:\n",
        "      for event in game:\n",
        "          evento = json_normalize(event.attrib)\n",
        "          mylist = []\n",
        "          for q in event:\n",
        "            mylist.append(q.attrib)\n",
        "          evento[\"qualifiers\"] = [\"a\"]\n",
        "          evento.at[0,\"qualifiers\"] = mylist\n",
        "          match_events = pd.concat([match_events,evento])\n",
        "  match_events[[\"id\",\"event_id\",\"type_id\",\"period_id\",\"min\",\"sec\"]] = match_events[[\"id\",\"event_id\",\"type_id\",\"period_id\",\"min\",\"sec\"]].astype(int)\n",
        "  match_events[[\"y\",\"x\"]] = match_events[[\"y\",\"x\"]].astype(float)\n",
        "  match_events = pd.merge(match_events,types, on=\"type_id\", how = \"left\")\n",
        "  match_events = match_events[ ['id',\"event_id\",\"type_id\", \"event_name\" ]+ [ col for col in match_events.columns if col not in ['id',\"event_id\",\"type_id\", \"event_name\" ] ] ]\n",
        "  match_events['competition_id'] = competition_id\n",
        "  match_events['game_id'] = game_id\n",
        "  match_events['home_team_id'] = home_team_id\n",
        "  match_events['home_team_name'] = home_team_name\n",
        "  match_events['away_team_id'] = away_team_id\n",
        "  match_events['away_team_name'] = away_team_name\n",
        "  match_events['competition_id'] = competition_id\n",
        "  match_events['competition_name'] = competition_name\n",
        "  match_events['season_id'] = season_id\n",
        "  match_events['competition_id'] = competition_id\n",
        "\n",
        "def explode_event(nome_df,id_evento,mytresh):\n",
        "  global exploded_df\n",
        "  exploded_df = pd.DataFrame()\n",
        "  nome_df=nome_df[nome_df[\"type_id\"]==id_evento]\n",
        "  allqualifiers = pd.DataFrame()\n",
        "  for i in range(len(nome_df)):\n",
        "    qualifiers_detailed = json_normalize(nome_df.qualifiers.iloc[i]).T.reset_index().drop(\"index\",axis=1).fillna(\"yes\")\n",
        "    qualifiers_detailed.columns = list(qualifiers_detailed.iloc[1])\n",
        "    qualifiers_detailed = qualifiers_detailed.drop(labels=[0,1], axis=0)\n",
        "    qualifiers_detailed.rename(columns=qualifiers_dict2,inplace=True)\n",
        "    qualifiers_detailed[\"id\"] = nome_df.id.iloc[i]\n",
        "    allqualifiers = pd.concat([allqualifiers,qualifiers_detailed])\n",
        "  exploded_df = pd.concat([exploded_df,pd.merge(nome_df.drop(\"qualifiers\", axis=1), allqualifiers.reindex(sorted(allqualifiers.columns), axis=1).reset_index()\\\n",
        "                                            .drop(\"index\", axis=1).dropna(thresh=len(allqualifiers)*mytresh, axis=1), on=\"id\", how=\"outer\")]).fillna(\"-\")"
      ]
    },
    {
      "cell_type": "markdown",
      "metadata": {
        "id": "MdkM2wYYKu9E"
      },
      "source": [
        "#**PLEASE READ**:"
      ]
    },
    {
      "cell_type": "markdown",
      "metadata": {
        "id": "TKpNYu-P9Mpe"
      },
      "source": [
        "\n",
        "**types** - DataFrame with all the IDs of event types and their respective names. Print 'types.head()' to get an idea of the content.\n",
        "\n",
        "\n",
        "**qualifiers** - DataFrame with all the IDs of qualifiers and their respective names.\n",
        "Print 'qualifiers.head()' to get an idea of the content\n",
        "\n",
        "\n",
        "\n",
        "---\n",
        "\n",
        "\n",
        "\n",
        "\n",
        "\n",
        "\n",
        "\n",
        "**parsef24** - Function that transforms an Opta F24 XML feed into a pandas DataFrame named match_events. To be executed correctly, it should receive the XML file's name as a parameter (which should already be loaded into Google Colab).\n",
        "Print 'match_events.head(15)' to get an idea of the content.\n",
        "\n",
        "\n",
        "\n",
        "---\n",
        "\n",
        "\n",
        "\n",
        "\n",
        "**explode_event** - Function that takes the DataFrame 'match_events' (or another one filtered by you) and the type of event you want, \"exploding\" all qualifiers into columns to create a new DataFrame named \"exploded_df\". The last parameter is the threshold that defines the minimum percentage of non-null values that the columns must contain. If it is 1, it will return only columns with no NaN values, while if it is 0, it returns all columns.\n",
        "\n",
        "\n",
        "Example:\n",
        "```\n",
        "explode_event(match_events, 1, 0.15)\n",
        "```"
      ]
    },
    {
      "cell_type": "markdown",
      "metadata": {
        "id": "fjRrAIyKK8Hw"
      },
      "source": [
        "# **METRIC CREATION**"
      ]
    },
    {
      "cell_type": "markdown",
      "metadata": {},
      "source": [
        "## Metric Specifications"
      ]
    },
    {
      "cell_type": "markdown",
      "metadata": {},
      "source": [
        "We want to calculate the average time a team takes to recover the ball.\n",
        "\n",
        "Metric Specifications:\n",
        "* Calculate the time to recover the ball since they lost it\n",
        "* Count the total ball recoveries\n",
        "* Calculate the average time for each team\n",
        "\n",
        "We want to  create a table with columns:\n",
        "* Team ID\n",
        "* Team Name\n",
        "* Ball recovery time"
      ]
    },
    {
      "cell_type": "markdown",
      "metadata": {},
      "source": [
        "## Functions"
      ]
    },
    {
      "cell_type": "code",
      "execution_count": 12,
      "metadata": {},
      "outputs": [],
      "source": [
        "from tqdm import tqdm\n",
        "\n",
        "import warnings\n",
        "warnings.filterwarnings(\"ignore\")\n"
      ]
    },
    {
      "cell_type": "markdown",
      "metadata": {},
      "source": [
        "### Clean the data"
      ]
    },
    {
      "cell_type": "markdown",
      "metadata": {},
      "source": [
        "clean_data function retrieves only rows that are ball recoveries.\n",
        "Also, there are sometimes where the data indicates that a team recovers the ball from themselves, we want to recover the ball from the opposite team"
      ]
    },
    {
      "cell_type": "code",
      "execution_count": 11,
      "metadata": {},
      "outputs": [],
      "source": [
        "def clean_data():\n",
        "    \n",
        "    #We get all the ball recoveries from the match_events dataframe\n",
        "    ball_recoveries = match_events[(match_events[\"event_name\"] == \"Ball recovery\")]\n",
        "\n",
        "    #reset the index\n",
        "    ball_recoveries.reset_index(inplace=True, drop=True)\n",
        "\n",
        "    indices_to_drop = []\n",
        "\n",
        "    # Iterate through the DataFrame and find the times where the ball recovery is from the same team\n",
        "    for index in range(1, len(ball_recoveries)-1):\n",
        "        if (ball_recoveries.iloc[index-1][\"team_id\"] == ball_recoveries.iloc[index][\"team_id\"]):\n",
        "            indices_to_drop.append(index)\n",
        "\n",
        "    # Drop all the rows at once\n",
        "    ball_recoveries.drop(indices_to_drop, inplace=True)\n",
        "    ball_recoveries.reset_index(inplace=True, drop=True)\n",
        "\n",
        "    return ball_recoveries"
      ]
    },
    {
      "cell_type": "markdown",
      "metadata": {},
      "source": [
        "### Ball recovery time calculator"
      ]
    },
    {
      "cell_type": "markdown",
      "metadata": {},
      "source": [
        "Function that calculates the time it takes a team to recover the ball, it also adds the data into the teams_df dataframe that contains all ball recovery times from all matches and teams"
      ]
    },
    {
      "cell_type": "code",
      "execution_count": 10,
      "metadata": {
        "id": "s7QVBnUsofwt"
      },
      "outputs": [],
      "source": [
        "def recovery_time_calculation(ball_recoveries, teams_df):\n",
        "    # For loop to iterate each ball recovery\n",
        "    for index, ball_recovery in ball_recoveries.iterrows():\n",
        "\n",
        "        # Convert index to integer\n",
        "        index = int(index)\n",
        "        \n",
        "        # Find the seconds where the ball was last recovered\n",
        "        if index == 0:\n",
        "            prev_min = 0\n",
        "        else:\n",
        "            prev_min = (ball_recoveries.iloc[index-1][\"min\"] * 60) + ball_recoveries.iloc[index-1][\"sec\"]\n",
        "        \n",
        "        # Calculate the time to recover the ball based on the previous ball recovery time\n",
        "        recovery_time = ((ball_recovery[\"min\"] * 60) + ball_recovery[\"sec\"]) - prev_min\n",
        "\n",
        "        # Check if the recovery was done by the home team or away team\n",
        "        team_name = ball_recovery[\"home_team_name\"] if ball_recovery[\"team_id\"] == ball_recovery[\"home_team_id\"] else ball_recovery[\"away_team_name\"]\n",
        "        \n",
        "        # Create a dictionary for the new row\n",
        "        data = {'team_name': team_name, 'recovery_time': recovery_time}\n",
        "        values = pd.DataFrame([data])  # Create a DataFrame from the dictionary\n",
        "        \n",
        "        # Concatenate the new row to the results DataFrame\n",
        "        teams_df = pd.concat([teams_df, values], ignore_index=True)\n",
        "    \n",
        "    return teams_df\n"
      ]
    },
    {
      "cell_type": "markdown",
      "metadata": {},
      "source": [
        "## Code"
      ]
    },
    {
      "cell_type": "code",
      "execution_count": 13,
      "metadata": {},
      "outputs": [
        {
          "data": {
            "text/html": [
              "<div>\n",
              "<style scoped>\n",
              "    .dataframe tbody tr th:only-of-type {\n",
              "        vertical-align: middle;\n",
              "    }\n",
              "\n",
              "    .dataframe tbody tr th {\n",
              "        vertical-align: top;\n",
              "    }\n",
              "\n",
              "    .dataframe thead th {\n",
              "        text-align: right;\n",
              "    }\n",
              "</style>\n",
              "<table border=\"1\" class=\"dataframe\">\n",
              "  <thead>\n",
              "    <tr style=\"text-align: right;\">\n",
              "      <th></th>\n",
              "      <th>team_name</th>\n",
              "      <th>recovery_time</th>\n",
              "    </tr>\n",
              "  </thead>\n",
              "  <tbody>\n",
              "  </tbody>\n",
              "</table>\n",
              "</div>"
            ],
            "text/plain": [
              "Empty DataFrame\n",
              "Columns: [team_name, recovery_time]\n",
              "Index: []"
            ]
          },
          "execution_count": 13,
          "metadata": {},
          "output_type": "execute_result"
        }
      ],
      "source": [
        "# Initialize dataframe that will contain our information\n",
        "teams_df = pd.DataFrame(columns=['team_name', 'recovery_time'])\n",
        "teams_df"
      ]
    },
    {
      "cell_type": "markdown",
      "metadata": {},
      "source": [
        "Iterate through all the files in the **content** folder"
      ]
    },
    {
      "cell_type": "code",
      "execution_count": 14,
      "metadata": {},
      "outputs": [
        {
          "name": "stderr",
          "output_type": "stream",
          "text": [
            "  0%|          | 0/333 [00:00<?, ?it/s]"
          ]
        },
        {
          "name": "stdout",
          "output_type": "stream",
          "text": [
            "content/f24-23-2022-2301589-eventdetails.xml\n"
          ]
        },
        {
          "name": "stderr",
          "output_type": "stream",
          "text": [
            "  0%|          | 1/333 [00:03<21:22,  3.86s/it]"
          ]
        },
        {
          "name": "stdout",
          "output_type": "stream",
          "text": [
            "content/f24-23-2022-2301752-eventdetails.xml\n"
          ]
        },
        {
          "name": "stderr",
          "output_type": "stream",
          "text": [
            "  1%|          | 2/333 [00:07<19:39,  3.56s/it]"
          ]
        },
        {
          "name": "stdout",
          "output_type": "stream",
          "text": [
            "content/f24-23-2022-2301655-eventdetails.xml\n"
          ]
        },
        {
          "name": "stderr",
          "output_type": "stream",
          "text": [
            "  1%|          | 3/333 [00:10<19:06,  3.47s/it]"
          ]
        },
        {
          "name": "stdout",
          "output_type": "stream",
          "text": [
            "content/f24-23-2022-2301851-eventdetails.xml\n"
          ]
        },
        {
          "name": "stderr",
          "output_type": "stream",
          "text": [
            "  1%|          | 4/333 [00:14<19:10,  3.50s/it]"
          ]
        },
        {
          "name": "stdout",
          "output_type": "stream",
          "text": [
            "content/f24-23-2022-2301889-eventdetails.xml\n"
          ]
        },
        {
          "name": "stderr",
          "output_type": "stream",
          "text": [
            "  2%|▏         | 5/333 [00:17<19:00,  3.48s/it]"
          ]
        },
        {
          "name": "stdout",
          "output_type": "stream",
          "text": [
            "content/f24-23-2022-2301834-eventdetails.xml\n"
          ]
        },
        {
          "name": "stderr",
          "output_type": "stream",
          "text": [
            "  2%|▏         | 6/333 [00:20<18:30,  3.40s/it]"
          ]
        },
        {
          "name": "stdout",
          "output_type": "stream",
          "text": [
            "content/f24-23-2022-2301709-eventdetails.xml\n"
          ]
        },
        {
          "name": "stderr",
          "output_type": "stream",
          "text": [
            "  2%|▏         | 7/333 [00:24<18:37,  3.43s/it]"
          ]
        },
        {
          "name": "stdout",
          "output_type": "stream",
          "text": [
            "content/f24-23-2022-2301737-eventdetails.xml\n"
          ]
        },
        {
          "name": "stderr",
          "output_type": "stream",
          "text": [
            "  2%|▏         | 8/333 [00:27<18:45,  3.46s/it]"
          ]
        },
        {
          "name": "stdout",
          "output_type": "stream",
          "text": [
            "content/f24-23-2022-2301630-eventdetails.xml\n"
          ]
        },
        {
          "name": "stderr",
          "output_type": "stream",
          "text": [
            "  3%|▎         | 9/333 [00:31<18:41,  3.46s/it]"
          ]
        },
        {
          "name": "stdout",
          "output_type": "stream",
          "text": [
            "content/f24-23-2022-2301611-eventdetails.xml\n"
          ]
        },
        {
          "name": "stderr",
          "output_type": "stream",
          "text": [
            "  3%|▎         | 10/333 [00:34<18:34,  3.45s/it]"
          ]
        },
        {
          "name": "stdout",
          "output_type": "stream",
          "text": [
            "content/f24-23-2022-2301716-eventdetails.xml\n"
          ]
        },
        {
          "name": "stderr",
          "output_type": "stream",
          "text": [
            "  3%|▎         | 11/333 [00:38<19:09,  3.57s/it]"
          ]
        },
        {
          "name": "stdout",
          "output_type": "stream",
          "text": [
            "content/f24-23-2022-2301728-eventdetails.xml\n"
          ]
        },
        {
          "name": "stderr",
          "output_type": "stream",
          "text": [
            "  4%|▎         | 12/333 [00:41<18:23,  3.44s/it]"
          ]
        },
        {
          "name": "stdout",
          "output_type": "stream",
          "text": [
            "content/f24-23-2022-2301912-eventdetails.xml\n"
          ]
        },
        {
          "name": "stderr",
          "output_type": "stream",
          "text": [
            "  4%|▍         | 13/333 [00:45<18:18,  3.43s/it]"
          ]
        },
        {
          "name": "stdout",
          "output_type": "stream",
          "text": [
            "content/f24-23-2022-2301815-eventdetails.xml\n"
          ]
        },
        {
          "name": "stderr",
          "output_type": "stream",
          "text": [
            "  4%|▍         | 14/333 [00:48<18:18,  3.44s/it]"
          ]
        },
        {
          "name": "stdout",
          "output_type": "stream",
          "text": [
            "content/f24-23-2022-2301870-eventdetails.xml\n"
          ]
        },
        {
          "name": "stderr",
          "output_type": "stream",
          "text": [
            "  5%|▍         | 15/333 [00:52<18:34,  3.51s/it]"
          ]
        },
        {
          "name": "stdout",
          "output_type": "stream",
          "text": [
            "content/f24-23-2022-2301896-eventdetails.xml\n"
          ]
        },
        {
          "name": "stderr",
          "output_type": "stream",
          "text": [
            "  5%|▍         | 16/333 [00:56<19:09,  3.63s/it]"
          ]
        },
        {
          "name": "stdout",
          "output_type": "stream",
          "text": [
            "content/f24-23-2022-2301674-eventdetails.xml\n"
          ]
        },
        {
          "name": "stderr",
          "output_type": "stream",
          "text": [
            "  5%|▌         | 17/333 [00:59<18:21,  3.49s/it]"
          ]
        },
        {
          "name": "stdout",
          "output_type": "stream",
          "text": [
            "content/f24-23-2022-2301692-eventdetails.xml\n"
          ]
        },
        {
          "name": "stderr",
          "output_type": "stream",
          "text": [
            "  5%|▌         | 18/333 [01:02<18:25,  3.51s/it]"
          ]
        },
        {
          "name": "stdout",
          "output_type": "stream",
          "text": [
            "content/f24-23-2022-2301596-eventdetails.xml\n"
          ]
        },
        {
          "name": "stderr",
          "output_type": "stream",
          "text": [
            "  6%|▌         | 19/333 [01:05<17:46,  3.40s/it]"
          ]
        },
        {
          "name": "stdout",
          "output_type": "stream",
          "text": [
            "content/f24-23-2022-2301795-eventdetails.xml\n"
          ]
        },
        {
          "name": "stderr",
          "output_type": "stream",
          "text": [
            "  6%|▌         | 20/333 [01:09<17:55,  3.44s/it]"
          ]
        },
        {
          "name": "stdout",
          "output_type": "stream",
          "text": [
            "content/f24-23-2022-2301773-eventdetails.xml\n"
          ]
        },
        {
          "name": "stderr",
          "output_type": "stream",
          "text": [
            "  6%|▋         | 21/333 [01:13<17:56,  3.45s/it]"
          ]
        },
        {
          "name": "stdout",
          "output_type": "stream",
          "text": [
            "content/f24-23-2022-2301801-eventdetails.xml\n"
          ]
        },
        {
          "name": "stderr",
          "output_type": "stream",
          "text": [
            "  7%|▋         | 22/333 [01:16<17:42,  3.42s/it]"
          ]
        },
        {
          "name": "stdout",
          "output_type": "stream",
          "text": [
            "content/f24-23-2022-2301906-eventdetails.xml\n"
          ]
        },
        {
          "name": "stderr",
          "output_type": "stream",
          "text": [
            "  7%|▋         | 23/333 [01:20<18:35,  3.60s/it]"
          ]
        },
        {
          "name": "stdout",
          "output_type": "stream",
          "text": [
            "content/f24-23-2022-2301702-eventdetails.xml\n"
          ]
        },
        {
          "name": "stderr",
          "output_type": "stream",
          "text": [
            "  7%|▋         | 24/333 [01:23<18:24,  3.57s/it]"
          ]
        },
        {
          "name": "stdout",
          "output_type": "stream",
          "text": [
            "content/f24-23-2022-2301605-eventdetails.xml\n"
          ]
        },
        {
          "name": "stderr",
          "output_type": "stream",
          "text": [
            "  8%|▊         | 25/333 [01:27<17:54,  3.49s/it]"
          ]
        },
        {
          "name": "stdout",
          "output_type": "stream",
          "text": [
            "content/f24-23-2022-2301759-eventdetails.xml\n"
          ]
        },
        {
          "name": "stderr",
          "output_type": "stream",
          "text": [
            "  8%|▊         | 26/333 [01:31<18:34,  3.63s/it]"
          ]
        },
        {
          "name": "stdout",
          "output_type": "stream",
          "text": [
            "content/f24-23-2022-2301767-eventdetails.xml\n"
          ]
        },
        {
          "name": "stderr",
          "output_type": "stream",
          "text": [
            "  8%|▊         | 27/333 [01:34<17:56,  3.52s/it]"
          ]
        },
        {
          "name": "stdout",
          "output_type": "stream",
          "text": [
            "content/f24-23-2022-2301781-eventdetails.xml\n"
          ]
        },
        {
          "name": "stderr",
          "output_type": "stream",
          "text": [
            "  8%|▊         | 28/333 [01:37<17:12,  3.39s/it]"
          ]
        },
        {
          "name": "stdout",
          "output_type": "stream",
          "text": [
            "content/f24-23-2022-2301686-eventdetails.xml\n"
          ]
        },
        {
          "name": "stderr",
          "output_type": "stream",
          "text": [
            "  9%|▊         | 29/333 [01:40<16:42,  3.30s/it]"
          ]
        },
        {
          "name": "stdout",
          "output_type": "stream",
          "text": [
            "content/f24-23-2022-2301660-eventdetails.xml\n"
          ]
        },
        {
          "name": "stderr",
          "output_type": "stream",
          "text": [
            "  9%|▉         | 30/333 [01:44<17:10,  3.40s/it]"
          ]
        },
        {
          "name": "stdout",
          "output_type": "stream",
          "text": [
            "content/f24-23-2022-2301882-eventdetails.xml\n"
          ]
        },
        {
          "name": "stderr",
          "output_type": "stream",
          "text": [
            "  9%|▉         | 31/333 [01:47<17:14,  3.42s/it]"
          ]
        },
        {
          "name": "stdout",
          "output_type": "stream",
          "text": [
            "content/f24-23-2022-2301864-eventdetails.xml\n"
          ]
        },
        {
          "name": "stderr",
          "output_type": "stream",
          "text": [
            " 10%|▉         | 32/333 [01:50<16:52,  3.36s/it]"
          ]
        },
        {
          "name": "stdout",
          "output_type": "stream",
          "text": [
            "content/f24-23-2022-2301845-eventdetails.xml\n"
          ]
        },
        {
          "name": "stderr",
          "output_type": "stream",
          "text": [
            " 10%|▉         | 33/333 [01:53<16:22,  3.27s/it]"
          ]
        },
        {
          "name": "stdout",
          "output_type": "stream",
          "text": [
            "content/f24-23-2022-2301699-eventdetails.xml\n"
          ]
        },
        {
          "name": "stderr",
          "output_type": "stream",
          "text": [
            " 10%|█         | 34/333 [01:57<16:24,  3.29s/it]"
          ]
        },
        {
          "name": "stdout",
          "output_type": "stream",
          "text": [
            "content/f24-23-2022-2301641-eventdetails.xml\n"
          ]
        },
        {
          "name": "stderr",
          "output_type": "stream",
          "text": [
            " 11%|█         | 35/333 [02:00<15:44,  3.17s/it]"
          ]
        },
        {
          "name": "stdout",
          "output_type": "stream",
          "text": [
            "content/f24-23-2022-2301746-eventdetails.xml\n"
          ]
        },
        {
          "name": "stderr",
          "output_type": "stream",
          "text": [
            " 11%|█         | 36/333 [02:03<15:32,  3.14s/it]"
          ]
        },
        {
          "name": "stdout",
          "output_type": "stream",
          "text": [
            "content/f24-23-2022-2301778-eventdetails.xml\n"
          ]
        },
        {
          "name": "stderr",
          "output_type": "stream",
          "text": [
            " 11%|█         | 37/333 [02:06<16:03,  3.25s/it]"
          ]
        },
        {
          "name": "stdout",
          "output_type": "stream",
          "text": [
            "content/f24-23-2022-2301624-eventdetails.xml\n"
          ]
        },
        {
          "name": "stderr",
          "output_type": "stream",
          "text": [
            " 11%|█▏        | 38/333 [02:10<16:03,  3.27s/it]"
          ]
        },
        {
          "name": "stdout",
          "output_type": "stream",
          "text": [
            "content/f24-23-2022-2301723-eventdetails.xml\n"
          ]
        },
        {
          "name": "stderr",
          "output_type": "stream",
          "text": [
            " 12%|█▏        | 39/333 [02:13<15:32,  3.17s/it]"
          ]
        },
        {
          "name": "stdout",
          "output_type": "stream",
          "text": [
            "content/f24-23-2022-2301919-eventdetails.xml\n"
          ]
        },
        {
          "name": "stderr",
          "output_type": "stream",
          "text": [
            " 12%|█▏        | 40/333 [02:15<14:53,  3.05s/it]"
          ]
        },
        {
          "name": "stdout",
          "output_type": "stream",
          "text": [
            "content/f24-23-2022-2301820-eventdetails.xml\n"
          ]
        },
        {
          "name": "stderr",
          "output_type": "stream",
          "text": [
            " 12%|█▏        | 41/333 [02:19<15:12,  3.12s/it]"
          ]
        },
        {
          "name": "stdout",
          "output_type": "stream",
          "text": [
            "content/f24-23-2022-2301742-eventdetails.xml\n"
          ]
        },
        {
          "name": "stderr",
          "output_type": "stream",
          "text": [
            " 13%|█▎        | 42/333 [02:22<15:12,  3.14s/it]"
          ]
        },
        {
          "name": "stdout",
          "output_type": "stream",
          "text": [
            "content/f24-23-2022-2301599-eventdetails.xml\n"
          ]
        },
        {
          "name": "stderr",
          "output_type": "stream",
          "text": [
            " 13%|█▎        | 43/333 [02:25<15:40,  3.24s/it]"
          ]
        },
        {
          "name": "stdout",
          "output_type": "stream",
          "text": [
            "content/f24-23-2022-2301645-eventdetails.xml\n"
          ]
        },
        {
          "name": "stderr",
          "output_type": "stream",
          "text": [
            " 13%|█▎        | 44/333 [02:28<15:31,  3.22s/it]"
          ]
        },
        {
          "name": "stdout",
          "output_type": "stream",
          "text": [
            "content/f24-23-2022-2301899-eventdetails.xml\n"
          ]
        },
        {
          "name": "stderr",
          "output_type": "stream",
          "text": [
            " 14%|█▎        | 45/333 [02:31<15:12,  3.17s/it]"
          ]
        },
        {
          "name": "stdout",
          "output_type": "stream",
          "text": [
            "content/f24-23-2022-2301841-eventdetails.xml\n"
          ]
        },
        {
          "name": "stderr",
          "output_type": "stream",
          "text": [
            " 14%|█▍        | 46/333 [02:35<15:13,  3.18s/it]"
          ]
        },
        {
          "name": "stdout",
          "output_type": "stream",
          "text": [
            "content/f24-23-2022-2301824-eventdetails.xml\n"
          ]
        },
        {
          "name": "stderr",
          "output_type": "stream",
          "text": [
            " 14%|█▍        | 47/333 [02:38<15:05,  3.17s/it]"
          ]
        },
        {
          "name": "stdout",
          "output_type": "stream",
          "text": [
            "content/f24-23-2022-2301727-eventdetails.xml\n"
          ]
        },
        {
          "name": "stderr",
          "output_type": "stream",
          "text": [
            " 14%|█▍        | 48/333 [02:41<15:01,  3.16s/it]"
          ]
        },
        {
          "name": "stdout",
          "output_type": "stream",
          "text": [
            "content/f24-23-2022-2301719-eventdetails.xml\n"
          ]
        },
        {
          "name": "stderr",
          "output_type": "stream",
          "text": [
            " 15%|█▍        | 49/333 [02:44<14:43,  3.11s/it]"
          ]
        },
        {
          "name": "stdout",
          "output_type": "stream",
          "text": [
            "content/f24-23-2022-2301620-eventdetails.xml\n"
          ]
        },
        {
          "name": "stderr",
          "output_type": "stream",
          "text": [
            " 15%|█▌        | 50/333 [02:47<14:43,  3.12s/it]"
          ]
        },
        {
          "name": "stdout",
          "output_type": "stream",
          "text": [
            "content/f24-23-2022-2301601-eventdetails.xml\n"
          ]
        },
        {
          "name": "stderr",
          "output_type": "stream",
          "text": [
            " 15%|█▌        | 51/333 [02:50<14:33,  3.10s/it]"
          ]
        },
        {
          "name": "stdout",
          "output_type": "stream",
          "text": [
            "content/f24-23-2022-2301738-eventdetails.xml\n"
          ]
        },
        {
          "name": "stderr",
          "output_type": "stream",
          "text": [
            " 16%|█▌        | 52/333 [02:54<15:25,  3.29s/it]"
          ]
        },
        {
          "name": "stdout",
          "output_type": "stream",
          "text": [
            "content/f24-23-2022-2301706-eventdetails.xml\n"
          ]
        },
        {
          "name": "stderr",
          "output_type": "stream",
          "text": [
            " 16%|█▌        | 53/333 [02:57<15:35,  3.34s/it]"
          ]
        },
        {
          "name": "stdout",
          "output_type": "stream",
          "text": [
            "content/f24-23-2022-2301902-eventdetails.xml\n"
          ]
        },
        {
          "name": "stderr",
          "output_type": "stream",
          "text": [
            " 16%|█▌        | 54/333 [03:01<15:25,  3.32s/it]"
          ]
        },
        {
          "name": "stdout",
          "output_type": "stream",
          "text": [
            "content/f24-23-2022-2301805-eventdetails.xml\n"
          ]
        },
        {
          "name": "stderr",
          "output_type": "stream",
          "text": [
            " 17%|█▋        | 55/333 [03:04<15:00,  3.24s/it]"
          ]
        },
        {
          "name": "stdout",
          "output_type": "stream",
          "text": [
            "content/f24-23-2022-2301886-eventdetails.xml\n"
          ]
        },
        {
          "name": "stderr",
          "output_type": "stream",
          "text": [
            " 17%|█▋        | 56/333 [03:07<15:02,  3.26s/it]"
          ]
        },
        {
          "name": "stdout",
          "output_type": "stream",
          "text": [
            "content/f24-23-2022-2301860-eventdetails.xml\n"
          ]
        },
        {
          "name": "stderr",
          "output_type": "stream",
          "text": [
            " 17%|█▋        | 57/333 [03:10<14:44,  3.21s/it]"
          ]
        },
        {
          "name": "stdout",
          "output_type": "stream",
          "text": [
            "content/f24-23-2022-2301682-eventdetails.xml\n"
          ]
        },
        {
          "name": "stderr",
          "output_type": "stream",
          "text": [
            " 17%|█▋        | 58/333 [03:13<14:45,  3.22s/it]"
          ]
        },
        {
          "name": "stdout",
          "output_type": "stream",
          "text": [
            "content/f24-23-2022-2301664-eventdetails.xml\n"
          ]
        },
        {
          "name": "stderr",
          "output_type": "stream",
          "text": [
            " 18%|█▊        | 59/333 [03:16<14:29,  3.17s/it]"
          ]
        },
        {
          "name": "stdout",
          "output_type": "stream",
          "text": [
            "content/f24-23-2022-2301763-eventdetails.xml\n"
          ]
        },
        {
          "name": "stderr",
          "output_type": "stream",
          "text": [
            " 18%|█▊        | 60/333 [03:20<14:31,  3.19s/it]"
          ]
        },
        {
          "name": "stdout",
          "output_type": "stream",
          "text": [
            "content/f24-23-2022-2301785-eventdetails.xml\n"
          ]
        },
        {
          "name": "stderr",
          "output_type": "stream",
          "text": [
            " 18%|█▊        | 61/333 [03:23<14:32,  3.21s/it]"
          ]
        },
        {
          "name": "stdout",
          "output_type": "stream",
          "text": [
            "content/f24-23-2022-2301811-eventdetails.xml\n"
          ]
        },
        {
          "name": "stderr",
          "output_type": "stream",
          "text": [
            " 19%|█▊        | 62/333 [03:26<14:12,  3.15s/it]"
          ]
        },
        {
          "name": "stdout",
          "output_type": "stream",
          "text": [
            "content/f24-23-2022-2301916-eventdetails.xml\n"
          ]
        },
        {
          "name": "stderr",
          "output_type": "stream",
          "text": [
            " 19%|█▉        | 63/333 [03:29<14:00,  3.11s/it]"
          ]
        },
        {
          "name": "stdout",
          "output_type": "stream",
          "text": [
            "content/f24-23-2022-2301712-eventdetails.xml\n"
          ]
        },
        {
          "name": "stderr",
          "output_type": "stream",
          "text": [
            " 19%|█▉        | 64/333 [03:32<13:52,  3.09s/it]"
          ]
        },
        {
          "name": "stdout",
          "output_type": "stream",
          "text": [
            "content/f24-23-2022-2301615-eventdetails.xml\n"
          ]
        },
        {
          "name": "stderr",
          "output_type": "stream",
          "text": [
            " 20%|█▉        | 65/333 [03:35<14:11,  3.18s/it]"
          ]
        },
        {
          "name": "stdout",
          "output_type": "stream",
          "text": [
            "content/f24-23-2022-2301791-eventdetails.xml\n"
          ]
        },
        {
          "name": "stderr",
          "output_type": "stream",
          "text": [
            " 20%|█▉        | 66/333 [03:39<14:15,  3.21s/it]"
          ]
        },
        {
          "name": "stdout",
          "output_type": "stream",
          "text": [
            "content/f24-23-2022-2301592-eventdetails.xml\n"
          ]
        },
        {
          "name": "stderr",
          "output_type": "stream",
          "text": [
            " 20%|██        | 67/333 [03:41<13:43,  3.10s/it]"
          ]
        },
        {
          "name": "stdout",
          "output_type": "stream",
          "text": [
            "content/f24-23-2022-2301777-eventdetails.xml\n"
          ]
        },
        {
          "name": "stderr",
          "output_type": "stream",
          "text": [
            " 20%|██        | 68/333 [03:44<13:32,  3.07s/it]"
          ]
        },
        {
          "name": "stdout",
          "output_type": "stream",
          "text": [
            "content/f24-23-2022-2301749-eventdetails.xml\n"
          ]
        },
        {
          "name": "stderr",
          "output_type": "stream",
          "text": [
            " 21%|██        | 69/333 [03:48<13:59,  3.18s/it]"
          ]
        },
        {
          "name": "stdout",
          "output_type": "stream",
          "text": [
            "content/f24-23-2022-2301670-eventdetails.xml\n"
          ]
        },
        {
          "name": "stderr",
          "output_type": "stream",
          "text": [
            " 21%|██        | 70/333 [03:51<13:31,  3.09s/it]"
          ]
        },
        {
          "name": "stdout",
          "output_type": "stream",
          "text": [
            "content/f24-23-2022-2301696-eventdetails.xml\n"
          ]
        },
        {
          "name": "stderr",
          "output_type": "stream",
          "text": [
            " 21%|██▏       | 71/333 [03:54<13:30,  3.09s/it]"
          ]
        },
        {
          "name": "stdout",
          "output_type": "stream",
          "text": [
            "content/f24-23-2022-2301874-eventdetails.xml\n"
          ]
        },
        {
          "name": "stderr",
          "output_type": "stream",
          "text": [
            " 22%|██▏       | 72/333 [03:57<13:43,  3.16s/it]"
          ]
        },
        {
          "name": "stdout",
          "output_type": "stream",
          "text": [
            "content/f24-23-2022-2301892-eventdetails.xml\n"
          ]
        },
        {
          "name": "stderr",
          "output_type": "stream",
          "text": [
            " 22%|██▏       | 73/333 [04:00<13:31,  3.12s/it]"
          ]
        },
        {
          "name": "stdout",
          "output_type": "stream",
          "text": [
            "content/f24-23-2022-2301855-eventdetails.xml\n"
          ]
        },
        {
          "name": "stderr",
          "output_type": "stream",
          "text": [
            " 22%|██▏       | 74/333 [04:04<14:01,  3.25s/it]"
          ]
        },
        {
          "name": "stdout",
          "output_type": "stream",
          "text": [
            "content/f24-23-2022-2301651-eventdetails.xml\n"
          ]
        },
        {
          "name": "stderr",
          "output_type": "stream",
          "text": [
            " 23%|██▎       | 75/333 [04:07<14:20,  3.34s/it]"
          ]
        },
        {
          "name": "stdout",
          "output_type": "stream",
          "text": [
            "content/f24-23-2022-2301689-eventdetails.xml\n"
          ]
        },
        {
          "name": "stderr",
          "output_type": "stream",
          "text": [
            " 23%|██▎       | 76/333 [04:10<14:07,  3.30s/it]"
          ]
        },
        {
          "name": "stdout",
          "output_type": "stream",
          "text": [
            "content/f24-23-2022-2301768-eventdetails.xml\n"
          ]
        },
        {
          "name": "stderr",
          "output_type": "stream",
          "text": [
            " 23%|██▎       | 77/333 [04:14<14:19,  3.36s/it]"
          ]
        },
        {
          "name": "stdout",
          "output_type": "stream",
          "text": [
            "content/f24-23-2022-2301756-eventdetails.xml\n"
          ]
        },
        {
          "name": "stderr",
          "output_type": "stream",
          "text": [
            " 23%|██▎       | 78/333 [04:17<14:19,  3.37s/it]"
          ]
        },
        {
          "name": "stdout",
          "output_type": "stream",
          "text": [
            "content/f24-23-2022-2301634-eventdetails.xml\n"
          ]
        },
        {
          "name": "stderr",
          "output_type": "stream",
          "text": [
            " 24%|██▎       | 79/333 [04:21<14:02,  3.32s/it]"
          ]
        },
        {
          "name": "stdout",
          "output_type": "stream",
          "text": [
            "content/f24-23-2022-2301733-eventdetails.xml\n"
          ]
        },
        {
          "name": "stderr",
          "output_type": "stream",
          "text": [
            " 24%|██▍       | 80/333 [04:24<13:55,  3.30s/it]"
          ]
        },
        {
          "name": "stdout",
          "output_type": "stream",
          "text": [
            "content/f24-23-2022-2301909-eventdetails.xml\n"
          ]
        },
        {
          "name": "stderr",
          "output_type": "stream",
          "text": [
            " 24%|██▍       | 81/333 [04:27<13:23,  3.19s/it]"
          ]
        },
        {
          "name": "stdout",
          "output_type": "stream",
          "text": [
            "content/f24-23-2022-2301830-eventdetails.xml\n"
          ]
        },
        {
          "name": "stderr",
          "output_type": "stream",
          "text": [
            " 25%|██▍       | 82/333 [04:30<13:22,  3.20s/it]"
          ]
        },
        {
          "name": "stdout",
          "output_type": "stream",
          "text": [
            "content/f24-23-2022-2301693-eventdetails.xml\n"
          ]
        },
        {
          "name": "stderr",
          "output_type": "stream",
          "text": [
            " 25%|██▍       | 83/333 [04:33<13:05,  3.14s/it]"
          ]
        },
        {
          "name": "stdout",
          "output_type": "stream",
          "text": [
            "content/f24-23-2022-2301675-eventdetails.xml\n"
          ]
        },
        {
          "name": "stderr",
          "output_type": "stream",
          "text": [
            " 25%|██▌       | 84/333 [04:36<12:29,  3.01s/it]"
          ]
        },
        {
          "name": "stdout",
          "output_type": "stream",
          "text": [
            "content/f24-23-2022-2301772-eventdetails.xml\n"
          ]
        },
        {
          "name": "stderr",
          "output_type": "stream",
          "text": [
            " 26%|██▌       | 85/333 [04:39<12:42,  3.07s/it]"
          ]
        },
        {
          "name": "stdout",
          "output_type": "stream",
          "text": [
            "content/f24-23-2022-2301597-eventdetails.xml\n"
          ]
        },
        {
          "name": "stderr",
          "output_type": "stream",
          "text": [
            " 26%|██▌       | 86/333 [04:42<12:59,  3.16s/it]"
          ]
        },
        {
          "name": "stdout",
          "output_type": "stream",
          "text": [
            "content/f24-23-2022-2301794-eventdetails.xml\n"
          ]
        },
        {
          "name": "stderr",
          "output_type": "stream",
          "text": [
            " 26%|██▌       | 87/333 [04:46<13:25,  3.27s/it]"
          ]
        },
        {
          "name": "stdout",
          "output_type": "stream",
          "text": [
            "content/f24-23-2022-2301897-eventdetails.xml\n"
          ]
        },
        {
          "name": "stderr",
          "output_type": "stream",
          "text": [
            " 26%|██▋       | 88/333 [04:49<13:15,  3.25s/it]"
          ]
        },
        {
          "name": "stdout",
          "output_type": "stream",
          "text": [
            "content/f24-23-2022-2301871-eventdetails.xml\n"
          ]
        },
        {
          "name": "stderr",
          "output_type": "stream",
          "text": [
            " 27%|██▋       | 89/333 [04:52<13:22,  3.29s/it]"
          ]
        },
        {
          "name": "stdout",
          "output_type": "stream",
          "text": [
            "content/f24-23-2022-2301913-eventdetails.xml\n"
          ]
        },
        {
          "name": "stderr",
          "output_type": "stream",
          "text": [
            " 27%|██▋       | 90/333 [04:55<12:44,  3.15s/it]"
          ]
        },
        {
          "name": "stdout",
          "output_type": "stream",
          "text": [
            "content/f24-23-2022-2301814-eventdetails.xml\n"
          ]
        },
        {
          "name": "stderr",
          "output_type": "stream",
          "text": [
            " 27%|██▋       | 91/333 [04:59<13:08,  3.26s/it]"
          ]
        },
        {
          "name": "stdout",
          "output_type": "stream",
          "text": [
            "content/f24-23-2022-2301610-eventdetails.xml\n"
          ]
        },
        {
          "name": "stderr",
          "output_type": "stream",
          "text": [
            " 28%|██▊       | 92/333 [05:02<12:47,  3.18s/it]"
          ]
        },
        {
          "name": "stdout",
          "output_type": "stream",
          "text": [
            "content/f24-23-2022-2301717-eventdetails.xml\n"
          ]
        },
        {
          "name": "stderr",
          "output_type": "stream",
          "text": [
            " 28%|██▊       | 93/333 [05:07<14:54,  3.73s/it]"
          ]
        },
        {
          "name": "stdout",
          "output_type": "stream",
          "text": [
            "content/f24-23-2022-2301729-eventdetails.xml\n"
          ]
        },
        {
          "name": "stderr",
          "output_type": "stream",
          "text": [
            " 28%|██▊       | 94/333 [05:17<22:19,  5.60s/it]"
          ]
        },
        {
          "name": "stdout",
          "output_type": "stream",
          "text": [
            "content/f24-23-2022-2301708-eventdetails.xml\n"
          ]
        },
        {
          "name": "stderr",
          "output_type": "stream",
          "text": [
            " 29%|██▊       | 95/333 [05:22<21:54,  5.52s/it]"
          ]
        },
        {
          "name": "stdout",
          "output_type": "stream",
          "text": [
            "content/f24-23-2022-2301736-eventdetails.xml\n"
          ]
        },
        {
          "name": "stderr",
          "output_type": "stream",
          "text": [
            " 29%|██▉       | 96/333 [05:26<20:20,  5.15s/it]"
          ]
        },
        {
          "name": "stdout",
          "output_type": "stream",
          "text": [
            "content/f24-23-2022-2301631-eventdetails.xml\n"
          ]
        },
        {
          "name": "stderr",
          "output_type": "stream",
          "text": [
            " 29%|██▉       | 97/333 [05:31<19:12,  4.88s/it]"
          ]
        },
        {
          "name": "stdout",
          "output_type": "stream",
          "text": [
            "content/f24-23-2022-2301835-eventdetails.xml\n"
          ]
        },
        {
          "name": "stderr",
          "output_type": "stream",
          "text": [
            " 29%|██▉       | 98/333 [05:36<19:46,  5.05s/it]"
          ]
        },
        {
          "name": "stdout",
          "output_type": "stream",
          "text": [
            "content/f24-23-2022-2301888-eventdetails.xml\n"
          ]
        },
        {
          "name": "stderr",
          "output_type": "stream",
          "text": [
            " 30%|██▉       | 99/333 [05:41<19:24,  4.98s/it]"
          ]
        },
        {
          "name": "stdout",
          "output_type": "stream",
          "text": [
            "content/f24-23-2022-2301850-eventdetails.xml\n"
          ]
        },
        {
          "name": "stderr",
          "output_type": "stream",
          "text": [
            " 30%|███       | 100/333 [05:45<18:47,  4.84s/it]"
          ]
        },
        {
          "name": "stdout",
          "output_type": "stream",
          "text": [
            "content/f24-23-2022-2301753-eventdetails.xml\n"
          ]
        },
        {
          "name": "stderr",
          "output_type": "stream",
          "text": [
            " 30%|███       | 101/333 [05:51<20:12,  5.23s/it]"
          ]
        },
        {
          "name": "stdout",
          "output_type": "stream",
          "text": [
            "content/f24-23-2022-2301588-eventdetails.xml\n"
          ]
        },
        {
          "name": "stderr",
          "output_type": "stream",
          "text": [
            " 31%|███       | 102/333 [05:56<19:11,  4.99s/it]"
          ]
        },
        {
          "name": "stdout",
          "output_type": "stream",
          "text": [
            "content/f24-23-2022-2301654-eventdetails.xml\n"
          ]
        },
        {
          "name": "stderr",
          "output_type": "stream",
          "text": [
            " 31%|███       | 103/333 [06:00<18:08,  4.73s/it]"
          ]
        },
        {
          "name": "stdout",
          "output_type": "stream",
          "text": [
            "content/f24-23-2022-2301918-eventdetails.xml\n"
          ]
        },
        {
          "name": "stderr",
          "output_type": "stream",
          "text": [
            " 31%|███       | 104/333 [06:05<18:40,  4.89s/it]"
          ]
        },
        {
          "name": "stdout",
          "output_type": "stream",
          "text": [
            "content/f24-23-2022-2301821-eventdetails.xml\n"
          ]
        },
        {
          "name": "stderr",
          "output_type": "stream",
          "text": [
            " 32%|███▏      | 105/333 [06:09<16:46,  4.41s/it]"
          ]
        },
        {
          "name": "stdout",
          "output_type": "stream",
          "text": [
            "content/f24-23-2022-2301625-eventdetails.xml\n"
          ]
        },
        {
          "name": "stderr",
          "output_type": "stream",
          "text": [
            " 32%|███▏      | 106/333 [06:12<16:06,  4.26s/it]"
          ]
        },
        {
          "name": "stdout",
          "output_type": "stream",
          "text": [
            "content/f24-23-2022-2301722-eventdetails.xml\n"
          ]
        },
        {
          "name": "stderr",
          "output_type": "stream",
          "text": [
            " 32%|███▏      | 107/333 [06:16<15:12,  4.04s/it]"
          ]
        },
        {
          "name": "stdout",
          "output_type": "stream",
          "text": [
            "content/f24-23-2022-2301640-eventdetails.xml\n"
          ]
        },
        {
          "name": "stderr",
          "output_type": "stream",
          "text": [
            " 32%|███▏      | 108/333 [06:19<14:31,  3.87s/it]"
          ]
        },
        {
          "name": "stdout",
          "output_type": "stream",
          "text": [
            "content/f24-23-2022-2301698-eventdetails.xml\n"
          ]
        },
        {
          "name": "stderr",
          "output_type": "stream",
          "text": [
            " 33%|███▎      | 109/333 [06:23<14:02,  3.76s/it]"
          ]
        },
        {
          "name": "stdout",
          "output_type": "stream",
          "text": [
            "content/f24-23-2022-2301747-eventdetails.xml\n"
          ]
        },
        {
          "name": "stderr",
          "output_type": "stream",
          "text": [
            " 33%|███▎      | 110/333 [06:27<13:56,  3.75s/it]"
          ]
        },
        {
          "name": "stdout",
          "output_type": "stream",
          "text": [
            "content/f24-23-2022-2301779-eventdetails.xml\n"
          ]
        },
        {
          "name": "stderr",
          "output_type": "stream",
          "text": [
            " 33%|███▎      | 111/333 [06:30<13:24,  3.62s/it]"
          ]
        },
        {
          "name": "stdout",
          "output_type": "stream",
          "text": [
            "content/f24-23-2022-2301844-eventdetails.xml\n"
          ]
        },
        {
          "name": "stderr",
          "output_type": "stream",
          "text": [
            " 34%|███▎      | 112/333 [06:34<13:23,  3.64s/it]"
          ]
        },
        {
          "name": "stdout",
          "output_type": "stream",
          "text": [
            "content/f24-23-2022-2301865-eventdetails.xml\n"
          ]
        },
        {
          "name": "stderr",
          "output_type": "stream",
          "text": [
            " 34%|███▍      | 113/333 [06:37<12:45,  3.48s/it]"
          ]
        },
        {
          "name": "stdout",
          "output_type": "stream",
          "text": [
            "content/f24-23-2022-2301883-eventdetails.xml\n"
          ]
        },
        {
          "name": "stderr",
          "output_type": "stream",
          "text": [
            " 34%|███▍      | 114/333 [06:40<12:51,  3.52s/it]"
          ]
        },
        {
          "name": "stdout",
          "output_type": "stream",
          "text": [
            "content/f24-23-2022-2301780-eventdetails.xml\n"
          ]
        },
        {
          "name": "stderr",
          "output_type": "stream",
          "text": [
            " 35%|███▍      | 115/333 [06:44<13:12,  3.64s/it]"
          ]
        },
        {
          "name": "stdout",
          "output_type": "stream",
          "text": [
            "content/f24-23-2022-2301758-eventdetails.xml\n"
          ]
        },
        {
          "name": "stderr",
          "output_type": "stream",
          "text": [
            " 35%|███▍      | 116/333 [06:50<15:09,  4.19s/it]"
          ]
        },
        {
          "name": "stdout",
          "output_type": "stream",
          "text": [
            "content/f24-23-2022-2301766-eventdetails.xml\n"
          ]
        },
        {
          "name": "stderr",
          "output_type": "stream",
          "text": [
            " 35%|███▌      | 117/333 [06:53<14:28,  4.02s/it]"
          ]
        },
        {
          "name": "stdout",
          "output_type": "stream",
          "text": [
            "content/f24-23-2022-2301661-eventdetails.xml\n"
          ]
        },
        {
          "name": "stderr",
          "output_type": "stream",
          "text": [
            " 35%|███▌      | 118/333 [06:57<13:54,  3.88s/it]"
          ]
        },
        {
          "name": "stdout",
          "output_type": "stream",
          "text": [
            "content/f24-23-2022-2301687-eventdetails.xml\n"
          ]
        },
        {
          "name": "stderr",
          "output_type": "stream",
          "text": [
            " 36%|███▌      | 119/333 [07:01<13:54,  3.90s/it]"
          ]
        },
        {
          "name": "stdout",
          "output_type": "stream",
          "text": [
            "content/f24-23-2022-2301703-eventdetails.xml\n"
          ]
        },
        {
          "name": "stderr",
          "output_type": "stream",
          "text": [
            " 36%|███▌      | 120/333 [07:06<14:43,  4.15s/it]"
          ]
        },
        {
          "name": "stdout",
          "output_type": "stream",
          "text": [
            "content/f24-23-2022-2301604-eventdetails.xml\n"
          ]
        },
        {
          "name": "stderr",
          "output_type": "stream",
          "text": [
            " 36%|███▋      | 121/333 [07:12<16:33,  4.69s/it]"
          ]
        },
        {
          "name": "stdout",
          "output_type": "stream",
          "text": [
            "content/f24-23-2022-2301800-eventdetails.xml\n"
          ]
        },
        {
          "name": "stderr",
          "output_type": "stream",
          "text": [
            " 37%|███▋      | 122/333 [07:15<15:07,  4.30s/it]"
          ]
        },
        {
          "name": "stdout",
          "output_type": "stream",
          "text": [
            "content/f24-23-2022-2301907-eventdetails.xml\n"
          ]
        },
        {
          "name": "stderr",
          "output_type": "stream",
          "text": [
            " 37%|███▋      | 123/333 [07:19<15:00,  4.29s/it]"
          ]
        },
        {
          "name": "stdout",
          "output_type": "stream",
          "text": [
            "content/f24-23-2022-2301665-eventdetails.xml\n"
          ]
        },
        {
          "name": "stderr",
          "output_type": "stream",
          "text": [
            " 37%|███▋      | 124/333 [07:23<14:20,  4.12s/it]"
          ]
        },
        {
          "name": "stdout",
          "output_type": "stream",
          "text": [
            "content/f24-23-2022-2301683-eventdetails.xml\n"
          ]
        },
        {
          "name": "stderr",
          "output_type": "stream",
          "text": [
            " 38%|███▊      | 125/333 [07:26<13:18,  3.84s/it]"
          ]
        },
        {
          "name": "stdout",
          "output_type": "stream",
          "text": [
            "content/f24-23-2022-2301784-eventdetails.xml\n"
          ]
        },
        {
          "name": "stderr",
          "output_type": "stream",
          "text": [
            " 38%|███▊      | 126/333 [07:31<14:04,  4.08s/it]"
          ]
        },
        {
          "name": "stdout",
          "output_type": "stream",
          "text": [
            "content/f24-23-2022-2301587-eventdetails.xml\n"
          ]
        },
        {
          "name": "stderr",
          "output_type": "stream",
          "text": [
            " 38%|███▊      | 127/333 [07:35<14:22,  4.19s/it]"
          ]
        },
        {
          "name": "stdout",
          "output_type": "stream",
          "text": [
            "content/f24-23-2022-2301762-eventdetails.xml\n"
          ]
        },
        {
          "name": "stderr",
          "output_type": "stream",
          "text": [
            " 38%|███▊      | 128/333 [07:39<13:45,  4.03s/it]"
          ]
        },
        {
          "name": "stdout",
          "output_type": "stream",
          "text": [
            "content/f24-23-2022-2301861-eventdetails.xml\n"
          ]
        },
        {
          "name": "stderr",
          "output_type": "stream",
          "text": [
            " 39%|███▊      | 129/333 [07:42<13:03,  3.84s/it]"
          ]
        },
        {
          "name": "stdout",
          "output_type": "stream",
          "text": [
            "content/f24-23-2022-2301887-eventdetails.xml\n"
          ]
        },
        {
          "name": "stderr",
          "output_type": "stream",
          "text": [
            " 39%|███▉      | 130/333 [07:46<12:44,  3.77s/it]"
          ]
        },
        {
          "name": "stdout",
          "output_type": "stream",
          "text": [
            "content/f24-23-2022-2301903-eventdetails.xml\n"
          ]
        },
        {
          "name": "stderr",
          "output_type": "stream",
          "text": [
            " 39%|███▉      | 131/333 [07:49<11:54,  3.54s/it]"
          ]
        },
        {
          "name": "stdout",
          "output_type": "stream",
          "text": [
            "content/f24-23-2022-2301804-eventdetails.xml\n"
          ]
        },
        {
          "name": "stderr",
          "output_type": "stream",
          "text": [
            " 40%|███▉      | 132/333 [07:53<12:28,  3.73s/it]"
          ]
        },
        {
          "name": "stdout",
          "output_type": "stream",
          "text": [
            "content/f24-23-2022-2301600-eventdetails.xml\n"
          ]
        },
        {
          "name": "stderr",
          "output_type": "stream",
          "text": [
            " 40%|███▉      | 133/333 [07:57<12:06,  3.63s/it]"
          ]
        },
        {
          "name": "stdout",
          "output_type": "stream",
          "text": [
            "content/f24-23-2022-2301739-eventdetails.xml\n"
          ]
        },
        {
          "name": "stderr",
          "output_type": "stream",
          "text": [
            " 40%|████      | 134/333 [08:00<12:15,  3.69s/it]"
          ]
        },
        {
          "name": "stdout",
          "output_type": "stream",
          "text": [
            "content/f24-23-2022-2301707-eventdetails.xml\n"
          ]
        },
        {
          "name": "stderr",
          "output_type": "stream",
          "text": [
            " 41%|████      | 135/333 [08:04<12:04,  3.66s/it]"
          ]
        },
        {
          "name": "stdout",
          "output_type": "stream",
          "text": [
            "content/f24-23-2022-2301726-eventdetails.xml\n"
          ]
        },
        {
          "name": "stderr",
          "output_type": "stream",
          "text": [
            " 41%|████      | 136/333 [08:08<11:56,  3.64s/it]"
          ]
        },
        {
          "name": "stdout",
          "output_type": "stream",
          "text": [
            "content/f24-23-2022-2301718-eventdetails.xml\n"
          ]
        },
        {
          "name": "stderr",
          "output_type": "stream",
          "text": [
            " 41%|████      | 137/333 [08:11<11:56,  3.65s/it]"
          ]
        },
        {
          "name": "stdout",
          "output_type": "stream",
          "text": [
            "content/f24-23-2022-2301621-eventdetails.xml\n"
          ]
        },
        {
          "name": "stderr",
          "output_type": "stream",
          "text": [
            " 41%|████▏     | 138/333 [08:15<11:54,  3.66s/it]"
          ]
        },
        {
          "name": "stdout",
          "output_type": "stream",
          "text": [
            "content/f24-23-2022-2301825-eventdetails.xml\n"
          ]
        },
        {
          "name": "stderr",
          "output_type": "stream",
          "text": [
            " 42%|████▏     | 139/333 [08:19<12:00,  3.71s/it]"
          ]
        },
        {
          "name": "stdout",
          "output_type": "stream",
          "text": [
            "content/f24-23-2022-2301840-eventdetails.xml\n"
          ]
        },
        {
          "name": "stderr",
          "output_type": "stream",
          "text": [
            " 42%|████▏     | 140/333 [08:22<11:42,  3.64s/it]"
          ]
        },
        {
          "name": "stdout",
          "output_type": "stream",
          "text": [
            "content/f24-23-2022-2301898-eventdetails.xml\n"
          ]
        },
        {
          "name": "stderr",
          "output_type": "stream",
          "text": [
            " 42%|████▏     | 141/333 [08:26<11:39,  3.65s/it]"
          ]
        },
        {
          "name": "stdout",
          "output_type": "stream",
          "text": [
            "content/f24-23-2022-2301598-eventdetails.xml\n"
          ]
        },
        {
          "name": "stderr",
          "output_type": "stream",
          "text": [
            " 43%|████▎     | 142/333 [08:30<11:56,  3.75s/it]"
          ]
        },
        {
          "name": "stdout",
          "output_type": "stream",
          "text": [
            "content/f24-23-2022-2301743-eventdetails.xml\n"
          ]
        },
        {
          "name": "stderr",
          "output_type": "stream",
          "text": [
            " 43%|████▎     | 143/333 [08:34<12:12,  3.85s/it]"
          ]
        },
        {
          "name": "stdout",
          "output_type": "stream",
          "text": [
            "content/f24-23-2022-2301644-eventdetails.xml\n"
          ]
        },
        {
          "name": "stderr",
          "output_type": "stream",
          "text": [
            " 43%|████▎     | 144/333 [08:38<12:16,  3.90s/it]"
          ]
        },
        {
          "name": "stdout",
          "output_type": "stream",
          "text": [
            "content/f24-23-2022-2301908-eventdetails.xml\n"
          ]
        },
        {
          "name": "stderr",
          "output_type": "stream",
          "text": [
            " 44%|████▎     | 145/333 [08:41<11:50,  3.78s/it]"
          ]
        },
        {
          "name": "stdout",
          "output_type": "stream",
          "text": [
            "content/f24-23-2022-2301831-eventdetails.xml\n"
          ]
        },
        {
          "name": "stderr",
          "output_type": "stream",
          "text": [
            " 44%|████▍     | 146/333 [08:45<11:43,  3.76s/it]"
          ]
        },
        {
          "name": "stdout",
          "output_type": "stream",
          "text": [
            "content/f24-23-2022-2301635-eventdetails.xml\n"
          ]
        },
        {
          "name": "stderr",
          "output_type": "stream",
          "text": [
            " 44%|████▍     | 147/333 [08:49<11:38,  3.76s/it]"
          ]
        },
        {
          "name": "stdout",
          "output_type": "stream",
          "text": [
            "content/f24-23-2022-2301732-eventdetails.xml\n"
          ]
        },
        {
          "name": "stderr",
          "output_type": "stream",
          "text": [
            " 44%|████▍     | 148/333 [08:53<11:49,  3.84s/it]"
          ]
        },
        {
          "name": "stdout",
          "output_type": "stream",
          "text": [
            "content/f24-23-2022-2301688-eventdetails.xml\n"
          ]
        },
        {
          "name": "stderr",
          "output_type": "stream",
          "text": [
            " 45%|████▍     | 149/333 [08:57<11:53,  3.88s/it]"
          ]
        },
        {
          "name": "stdout",
          "output_type": "stream",
          "text": [
            "content/f24-23-2022-2301650-eventdetails.xml\n"
          ]
        },
        {
          "name": "stderr",
          "output_type": "stream",
          "text": [
            " 45%|████▌     | 150/333 [09:00<11:21,  3.72s/it]"
          ]
        },
        {
          "name": "stdout",
          "output_type": "stream",
          "text": [
            "content/f24-23-2022-2301769-eventdetails.xml\n"
          ]
        },
        {
          "name": "stderr",
          "output_type": "stream",
          "text": [
            " 45%|████▌     | 151/333 [09:04<10:53,  3.59s/it]"
          ]
        },
        {
          "name": "stdout",
          "output_type": "stream",
          "text": [
            "content/f24-23-2022-2301757-eventdetails.xml\n"
          ]
        },
        {
          "name": "stderr",
          "output_type": "stream",
          "text": [
            " 46%|████▌     | 152/333 [09:08<11:14,  3.73s/it]"
          ]
        },
        {
          "name": "stdout",
          "output_type": "stream",
          "text": [
            "content/f24-23-2022-2301854-eventdetails.xml\n"
          ]
        },
        {
          "name": "stderr",
          "output_type": "stream",
          "text": [
            " 46%|████▌     | 153/333 [09:11<10:48,  3.60s/it]"
          ]
        },
        {
          "name": "stdout",
          "output_type": "stream",
          "text": [
            "content/f24-23-2022-2301893-eventdetails.xml\n"
          ]
        },
        {
          "name": "stderr",
          "output_type": "stream",
          "text": [
            " 46%|████▌     | 154/333 [09:15<11:07,  3.73s/it]"
          ]
        },
        {
          "name": "stdout",
          "output_type": "stream",
          "text": [
            "content/f24-23-2022-2301875-eventdetails.xml\n"
          ]
        },
        {
          "name": "stderr",
          "output_type": "stream",
          "text": [
            " 47%|████▋     | 155/333 [09:18<10:48,  3.64s/it]"
          ]
        },
        {
          "name": "stdout",
          "output_type": "stream",
          "text": [
            "content/f24-23-2022-2301776-eventdetails.xml\n"
          ]
        },
        {
          "name": "stderr",
          "output_type": "stream",
          "text": [
            " 47%|████▋     | 156/333 [09:22<10:30,  3.56s/it]"
          ]
        },
        {
          "name": "stdout",
          "output_type": "stream",
          "text": [
            "content/f24-23-2022-2301748-eventdetails.xml\n"
          ]
        },
        {
          "name": "stderr",
          "output_type": "stream",
          "text": [
            " 47%|████▋     | 157/333 [09:25<10:14,  3.49s/it]"
          ]
        },
        {
          "name": "stdout",
          "output_type": "stream",
          "text": [
            "content/f24-23-2022-2301790-eventdetails.xml\n"
          ]
        },
        {
          "name": "stderr",
          "output_type": "stream",
          "text": [
            " 47%|████▋     | 158/333 [09:29<10:09,  3.48s/it]"
          ]
        },
        {
          "name": "stdout",
          "output_type": "stream",
          "text": [
            "content/f24-23-2022-2301593-eventdetails.xml\n"
          ]
        },
        {
          "name": "stderr",
          "output_type": "stream",
          "text": [
            " 48%|████▊     | 159/333 [09:32<10:16,  3.54s/it]"
          ]
        },
        {
          "name": "stdout",
          "output_type": "stream",
          "text": [
            "content/f24-23-2022-2301697-eventdetails.xml\n"
          ]
        },
        {
          "name": "stderr",
          "output_type": "stream",
          "text": [
            " 48%|████▊     | 160/333 [09:36<10:06,  3.50s/it]"
          ]
        },
        {
          "name": "stdout",
          "output_type": "stream",
          "text": [
            "content/f24-23-2022-2301671-eventdetails.xml\n"
          ]
        },
        {
          "name": "stderr",
          "output_type": "stream",
          "text": [
            " 48%|████▊     | 161/333 [09:39<09:53,  3.45s/it]"
          ]
        },
        {
          "name": "stdout",
          "output_type": "stream",
          "text": [
            "content/f24-23-2022-2301713-eventdetails.xml\n"
          ]
        },
        {
          "name": "stderr",
          "output_type": "stream",
          "text": [
            " 49%|████▊     | 162/333 [09:42<09:39,  3.39s/it]"
          ]
        },
        {
          "name": "stdout",
          "output_type": "stream",
          "text": [
            "content/f24-23-2022-2301614-eventdetails.xml\n"
          ]
        },
        {
          "name": "stderr",
          "output_type": "stream",
          "text": [
            " 49%|████▉     | 163/333 [09:46<09:59,  3.53s/it]"
          ]
        },
        {
          "name": "stdout",
          "output_type": "stream",
          "text": [
            "content/f24-23-2022-2301810-eventdetails.xml\n"
          ]
        },
        {
          "name": "stderr",
          "output_type": "stream",
          "text": [
            " 49%|████▉     | 164/333 [09:50<10:39,  3.79s/it]"
          ]
        },
        {
          "name": "stdout",
          "output_type": "stream",
          "text": [
            "content/f24-23-2022-2301917-eventdetails.xml\n"
          ]
        },
        {
          "name": "stderr",
          "output_type": "stream",
          "text": [
            " 50%|████▉     | 165/333 [09:54<10:09,  3.63s/it]"
          ]
        },
        {
          "name": "stdout",
          "output_type": "stream",
          "text": [
            "content/f24-23-2022-2301721-eventdetails.xml\n"
          ]
        },
        {
          "name": "stderr",
          "output_type": "stream",
          "text": [
            " 50%|████▉     | 166/333 [09:57<10:04,  3.62s/it]"
          ]
        },
        {
          "name": "stdout",
          "output_type": "stream",
          "text": [
            "content/f24-23-2022-2301618-eventdetails.xml\n"
          ]
        },
        {
          "name": "stderr",
          "output_type": "stream",
          "text": [
            " 50%|█████     | 167/333 [10:01<10:02,  3.63s/it]"
          ]
        },
        {
          "name": "stdout",
          "output_type": "stream",
          "text": [
            "content/f24-23-2022-2301626-eventdetails.xml\n"
          ]
        },
        {
          "name": "stderr",
          "output_type": "stream",
          "text": [
            " 50%|█████     | 168/333 [10:04<09:33,  3.48s/it]"
          ]
        },
        {
          "name": "stdout",
          "output_type": "stream",
          "text": [
            "content/f24-23-2022-2301822-eventdetails.xml\n"
          ]
        },
        {
          "name": "stderr",
          "output_type": "stream",
          "text": [
            " 51%|█████     | 169/333 [10:08<09:51,  3.61s/it]"
          ]
        },
        {
          "name": "stdout",
          "output_type": "stream",
          "text": [
            "content/f24-23-2022-2301879-eventdetails.xml\n"
          ]
        },
        {
          "name": "stderr",
          "output_type": "stream",
          "text": [
            " 51%|█████     | 170/333 [10:11<09:24,  3.46s/it]"
          ]
        },
        {
          "name": "stdout",
          "output_type": "stream",
          "text": [
            "content/f24-23-2022-2301847-eventdetails.xml\n"
          ]
        },
        {
          "name": "stderr",
          "output_type": "stream",
          "text": [
            " 51%|█████▏    | 171/333 [10:14<08:57,  3.32s/it]"
          ]
        },
        {
          "name": "stdout",
          "output_type": "stream",
          "text": [
            "content/f24-23-2022-2301744-eventdetails.xml\n"
          ]
        },
        {
          "name": "stderr",
          "output_type": "stream",
          "text": [
            " 52%|█████▏    | 172/333 [10:17<08:52,  3.31s/it]"
          ]
        },
        {
          "name": "stdout",
          "output_type": "stream",
          "text": [
            "content/f24-23-2022-2301643-eventdetails.xml\n"
          ]
        },
        {
          "name": "stderr",
          "output_type": "stream",
          "text": [
            " 52%|█████▏    | 173/333 [10:20<08:18,  3.11s/it]"
          ]
        },
        {
          "name": "stdout",
          "output_type": "stream",
          "text": [
            "content/f24-23-2022-2301662-eventdetails.xml\n"
          ]
        },
        {
          "name": "stderr",
          "output_type": "stream",
          "text": [
            " 52%|█████▏    | 174/333 [10:23<08:08,  3.07s/it]"
          ]
        },
        {
          "name": "stdout",
          "output_type": "stream",
          "text": [
            "content/f24-23-2022-2301684-eventdetails.xml\n"
          ]
        },
        {
          "name": "stderr",
          "output_type": "stream",
          "text": [
            " 53%|█████▎    | 175/333 [10:26<07:55,  3.01s/it]"
          ]
        },
        {
          "name": "stdout",
          "output_type": "stream",
          "text": [
            "content/f24-23-2022-2301783-eventdetails.xml\n"
          ]
        },
        {
          "name": "stderr",
          "output_type": "stream",
          "text": [
            " 53%|█████▎    | 176/333 [10:29<08:03,  3.08s/it]"
          ]
        },
        {
          "name": "stdout",
          "output_type": "stream",
          "text": [
            "content/f24-23-2022-2301765-eventdetails.xml\n"
          ]
        },
        {
          "name": "stderr",
          "output_type": "stream",
          "text": [
            " 53%|█████▎    | 177/333 [10:32<07:59,  3.07s/it]"
          ]
        },
        {
          "name": "stdout",
          "output_type": "stream",
          "text": [
            "content/f24-23-2022-2301866-eventdetails.xml\n"
          ]
        },
        {
          "name": "stderr",
          "output_type": "stream",
          "text": [
            " 53%|█████▎    | 178/333 [10:36<08:11,  3.17s/it]"
          ]
        },
        {
          "name": "stdout",
          "output_type": "stream",
          "text": [
            "content/f24-23-2022-2301858-eventdetails.xml\n"
          ]
        },
        {
          "name": "stderr",
          "output_type": "stream",
          "text": [
            " 54%|█████▍    | 179/333 [10:39<08:24,  3.28s/it]"
          ]
        },
        {
          "name": "stdout",
          "output_type": "stream",
          "text": [
            "content/f24-23-2022-2301880-eventdetails.xml\n"
          ]
        },
        {
          "name": "stderr",
          "output_type": "stream",
          "text": [
            " 54%|█████▍    | 180/333 [10:43<08:41,  3.41s/it]"
          ]
        },
        {
          "name": "stdout",
          "output_type": "stream",
          "text": [
            "content/f24-23-2022-2301904-eventdetails.xml\n"
          ]
        },
        {
          "name": "stderr",
          "output_type": "stream",
          "text": [
            " 54%|█████▍    | 181/333 [10:46<08:30,  3.36s/it]"
          ]
        },
        {
          "name": "stdout",
          "output_type": "stream",
          "text": [
            "content/f24-23-2022-2301803-eventdetails.xml\n"
          ]
        },
        {
          "name": "stderr",
          "output_type": "stream",
          "text": [
            " 55%|█████▍    | 182/333 [10:49<08:25,  3.35s/it]"
          ]
        },
        {
          "name": "stdout",
          "output_type": "stream",
          "text": [
            "content/f24-23-2022-2301607-eventdetails.xml\n"
          ]
        },
        {
          "name": "stderr",
          "output_type": "stream",
          "text": [
            " 55%|█████▍    | 183/333 [10:54<09:10,  3.67s/it]"
          ]
        },
        {
          "name": "stdout",
          "output_type": "stream",
          "text": [
            "content/f24-23-2022-2301639-eventdetails.xml\n"
          ]
        },
        {
          "name": "stderr",
          "output_type": "stream",
          "text": [
            " 55%|█████▌    | 184/333 [10:57<08:56,  3.60s/it]"
          ]
        },
        {
          "name": "stdout",
          "output_type": "stream",
          "text": [
            "content/f24-23-2022-2301700-eventdetails.xml\n"
          ]
        },
        {
          "name": "stderr",
          "output_type": "stream",
          "text": [
            " 56%|█████▌    | 185/333 [11:00<08:33,  3.47s/it]"
          ]
        },
        {
          "name": "stdout",
          "output_type": "stream",
          "text": [
            "content/f24-23-2022-2301894-eventdetails.xml\n"
          ]
        },
        {
          "name": "stderr",
          "output_type": "stream",
          "text": [
            " 56%|█████▌    | 186/333 [11:04<08:25,  3.44s/it]"
          ]
        },
        {
          "name": "stdout",
          "output_type": "stream",
          "text": [
            "content/f24-23-2022-2301872-eventdetails.xml\n"
          ]
        },
        {
          "name": "stderr",
          "output_type": "stream",
          "text": [
            " 56%|█████▌    | 187/333 [11:07<07:59,  3.28s/it]"
          ]
        },
        {
          "name": "stdout",
          "output_type": "stream",
          "text": [
            "content/f24-23-2022-2301771-eventdetails.xml\n"
          ]
        },
        {
          "name": "stderr",
          "output_type": "stream",
          "text": [
            " 56%|█████▋    | 188/333 [11:10<08:05,  3.35s/it]"
          ]
        },
        {
          "name": "stdout",
          "output_type": "stream",
          "text": [
            "content/f24-23-2022-2301594-eventdetails.xml\n"
          ]
        },
        {
          "name": "stderr",
          "output_type": "stream",
          "text": [
            " 57%|█████▋    | 189/333 [11:14<08:06,  3.38s/it]"
          ]
        },
        {
          "name": "stdout",
          "output_type": "stream",
          "text": [
            "content/f24-23-2022-2301797-eventdetails.xml\n"
          ]
        },
        {
          "name": "stderr",
          "output_type": "stream",
          "text": [
            " 57%|█████▋    | 190/333 [11:17<07:54,  3.32s/it]"
          ]
        },
        {
          "name": "stdout",
          "output_type": "stream",
          "text": [
            "content/f24-23-2022-2301690-eventdetails.xml\n"
          ]
        },
        {
          "name": "stderr",
          "output_type": "stream",
          "text": [
            " 57%|█████▋    | 191/333 [11:20<07:51,  3.32s/it]"
          ]
        },
        {
          "name": "stdout",
          "output_type": "stream",
          "text": [
            "content/f24-23-2022-2301648-eventdetails.xml\n"
          ]
        },
        {
          "name": "stderr",
          "output_type": "stream",
          "text": [
            " 58%|█████▊    | 192/333 [11:23<07:36,  3.24s/it]"
          ]
        },
        {
          "name": "stdout",
          "output_type": "stream",
          "text": [
            "content/f24-23-2022-2301676-eventdetails.xml\n"
          ]
        },
        {
          "name": "stderr",
          "output_type": "stream",
          "text": [
            " 58%|█████▊    | 193/333 [11:26<07:26,  3.19s/it]"
          ]
        },
        {
          "name": "stdout",
          "output_type": "stream",
          "text": [
            "content/f24-23-2022-2301714-eventdetails.xml\n"
          ]
        },
        {
          "name": "stderr",
          "output_type": "stream",
          "text": [
            " 58%|█████▊    | 194/333 [11:29<07:08,  3.08s/it]"
          ]
        },
        {
          "name": "stdout",
          "output_type": "stream",
          "text": [
            "content/f24-23-2022-2301613-eventdetails.xml\n"
          ]
        },
        {
          "name": "stderr",
          "output_type": "stream",
          "text": [
            " 59%|█████▊    | 195/333 [11:32<07:12,  3.13s/it]"
          ]
        },
        {
          "name": "stdout",
          "output_type": "stream",
          "text": [
            "content/f24-23-2022-2301829-eventdetails.xml\n"
          ]
        },
        {
          "name": "stderr",
          "output_type": "stream",
          "text": [
            " 59%|█████▉    | 196/333 [11:36<07:12,  3.16s/it]"
          ]
        },
        {
          "name": "stdout",
          "output_type": "stream",
          "text": [
            "content/f24-23-2022-2301817-eventdetails.xml\n"
          ]
        },
        {
          "name": "stderr",
          "output_type": "stream",
          "text": [
            " 59%|█████▉    | 197/333 [11:39<07:12,  3.18s/it]"
          ]
        },
        {
          "name": "stdout",
          "output_type": "stream",
          "text": [
            "content/f24-23-2022-2301910-eventdetails.xml\n"
          ]
        },
        {
          "name": "stderr",
          "output_type": "stream",
          "text": [
            " 59%|█████▉    | 198/333 [11:42<06:50,  3.04s/it]"
          ]
        },
        {
          "name": "stdout",
          "output_type": "stream",
          "text": [
            "content/f24-23-2022-2301836-eventdetails.xml\n"
          ]
        },
        {
          "name": "stderr",
          "output_type": "stream",
          "text": [
            " 60%|█████▉    | 199/333 [11:45<06:47,  3.04s/it]"
          ]
        },
        {
          "name": "stdout",
          "output_type": "stream",
          "text": [
            "content/f24-23-2022-2301808-eventdetails.xml\n"
          ]
        },
        {
          "name": "stderr",
          "output_type": "stream",
          "text": [
            " 60%|██████    | 200/333 [11:48<06:54,  3.12s/it]"
          ]
        },
        {
          "name": "stdout",
          "output_type": "stream",
          "text": [
            "content/f24-23-2022-2301632-eventdetails.xml\n"
          ]
        },
        {
          "name": "stderr",
          "output_type": "stream",
          "text": [
            " 60%|██████    | 201/333 [11:51<07:01,  3.20s/it]"
          ]
        },
        {
          "name": "stdout",
          "output_type": "stream",
          "text": [
            "content/f24-23-2022-2301735-eventdetails.xml\n"
          ]
        },
        {
          "name": "stderr",
          "output_type": "stream",
          "text": [
            " 61%|██████    | 202/333 [11:54<06:48,  3.12s/it]"
          ]
        },
        {
          "name": "stdout",
          "output_type": "stream",
          "text": [
            "content/f24-23-2022-2301657-eventdetails.xml\n"
          ]
        },
        {
          "name": "stderr",
          "output_type": "stream",
          "text": [
            " 61%|██████    | 203/333 [11:58<07:13,  3.33s/it]"
          ]
        },
        {
          "name": "stdout",
          "output_type": "stream",
          "text": [
            "content/f24-23-2022-2301669-eventdetails.xml\n"
          ]
        },
        {
          "name": "stderr",
          "output_type": "stream",
          "text": [
            " 61%|██████▏   | 204/333 [12:01<07:01,  3.27s/it]"
          ]
        },
        {
          "name": "stdout",
          "output_type": "stream",
          "text": [
            "content/f24-23-2022-2301750-eventdetails.xml\n"
          ]
        },
        {
          "name": "stderr",
          "output_type": "stream",
          "text": [
            " 62%|██████▏   | 205/333 [12:05<07:10,  3.37s/it]"
          ]
        },
        {
          "name": "stdout",
          "output_type": "stream",
          "text": [
            "content/f24-23-2022-2301788-eventdetails.xml\n"
          ]
        },
        {
          "name": "stderr",
          "output_type": "stream",
          "text": [
            " 62%|██████▏   | 206/333 [12:08<07:03,  3.33s/it]"
          ]
        },
        {
          "name": "stdout",
          "output_type": "stream",
          "text": [
            "content/f24-23-2022-2301853-eventdetails.xml\n"
          ]
        },
        {
          "name": "stderr",
          "output_type": "stream",
          "text": [
            " 62%|██████▏   | 207/333 [12:11<06:45,  3.22s/it]"
          ]
        },
        {
          "name": "stdout",
          "output_type": "stream",
          "text": [
            "content/f24-23-2022-2301731-eventdetails.xml\n"
          ]
        },
        {
          "name": "stderr",
          "output_type": "stream",
          "text": [
            " 62%|██████▏   | 208/333 [12:14<06:38,  3.19s/it]"
          ]
        },
        {
          "name": "stdout",
          "output_type": "stream",
          "text": [
            "content/f24-23-2022-2301636-eventdetails.xml\n"
          ]
        },
        {
          "name": "stderr",
          "output_type": "stream",
          "text": [
            " 63%|██████▎   | 209/333 [12:17<06:30,  3.15s/it]"
          ]
        },
        {
          "name": "stdout",
          "output_type": "stream",
          "text": [
            "content/f24-23-2022-2301608-eventdetails.xml\n"
          ]
        },
        {
          "name": "stderr",
          "output_type": "stream",
          "text": [
            " 63%|██████▎   | 210/333 [12:20<06:24,  3.13s/it]"
          ]
        },
        {
          "name": "stdout",
          "output_type": "stream",
          "text": [
            "content/f24-23-2022-2301832-eventdetails.xml\n"
          ]
        },
        {
          "name": "stderr",
          "output_type": "stream",
          "text": [
            " 63%|██████▎   | 211/333 [12:23<06:27,  3.18s/it]"
          ]
        },
        {
          "name": "stdout",
          "output_type": "stream",
          "text": [
            "content/f24-23-2022-2301857-eventdetails.xml\n"
          ]
        },
        {
          "name": "stderr",
          "output_type": "stream",
          "text": [
            " 64%|██████▎   | 212/333 [12:27<06:21,  3.16s/it]"
          ]
        },
        {
          "name": "stdout",
          "output_type": "stream",
          "text": [
            "content/f24-23-2022-2301869-eventdetails.xml\n"
          ]
        },
        {
          "name": "stderr",
          "output_type": "stream",
          "text": [
            " 64%|██████▍   | 213/333 [12:30<06:24,  3.21s/it]"
          ]
        },
        {
          "name": "stdout",
          "output_type": "stream",
          "text": [
            "content/f24-23-2022-2301754-eventdetails.xml\n"
          ]
        },
        {
          "name": "stderr",
          "output_type": "stream",
          "text": [
            " 64%|██████▍   | 214/333 [12:33<06:20,  3.20s/it]"
          ]
        },
        {
          "name": "stdout",
          "output_type": "stream",
          "text": [
            "content/f24-23-2022-2301653-eventdetails.xml\n"
          ]
        },
        {
          "name": "stderr",
          "output_type": "stream",
          "text": [
            " 65%|██████▍   | 215/333 [12:36<06:24,  3.26s/it]"
          ]
        },
        {
          "name": "stdout",
          "output_type": "stream",
          "text": [
            "content/f24-23-2022-2301694-eventdetails.xml\n"
          ]
        },
        {
          "name": "stderr",
          "output_type": "stream",
          "text": [
            " 65%|██████▍   | 216/333 [12:39<06:01,  3.09s/it]"
          ]
        },
        {
          "name": "stdout",
          "output_type": "stream",
          "text": [
            "content/f24-23-2022-2301672-eventdetails.xml\n"
          ]
        },
        {
          "name": "stderr",
          "output_type": "stream",
          "text": [
            " 65%|██████▌   | 217/333 [12:42<06:05,  3.15s/it]"
          ]
        },
        {
          "name": "stdout",
          "output_type": "stream",
          "text": [
            "content/f24-23-2022-2301775-eventdetails.xml\n"
          ]
        },
        {
          "name": "stderr",
          "output_type": "stream",
          "text": [
            " 65%|██████▌   | 218/333 [12:46<06:01,  3.14s/it]"
          ]
        },
        {
          "name": "stdout",
          "output_type": "stream",
          "text": [
            "content/f24-23-2022-2301793-eventdetails.xml\n"
          ]
        },
        {
          "name": "stderr",
          "output_type": "stream",
          "text": [
            " 66%|██████▌   | 219/333 [12:49<06:03,  3.19s/it]"
          ]
        },
        {
          "name": "stdout",
          "output_type": "stream",
          "text": [
            "content/f24-23-2022-2301590-eventdetails.xml\n"
          ]
        },
        {
          "name": "stderr",
          "output_type": "stream",
          "text": [
            " 66%|██████▌   | 220/333 [12:52<06:14,  3.32s/it]"
          ]
        },
        {
          "name": "stdout",
          "output_type": "stream",
          "text": [
            "content/f24-23-2022-2301890-eventdetails.xml\n"
          ]
        },
        {
          "name": "stderr",
          "output_type": "stream",
          "text": [
            " 66%|██████▋   | 221/333 [12:56<06:09,  3.29s/it]"
          ]
        },
        {
          "name": "stdout",
          "output_type": "stream",
          "text": [
            "content/f24-23-2022-2301848-eventdetails.xml\n"
          ]
        },
        {
          "name": "stderr",
          "output_type": "stream",
          "text": [
            " 67%|██████▋   | 222/333 [12:59<06:04,  3.28s/it]"
          ]
        },
        {
          "name": "stdout",
          "output_type": "stream",
          "text": [
            "content/f24-23-2022-2301876-eventdetails.xml\n"
          ]
        },
        {
          "name": "stderr",
          "output_type": "stream",
          "text": [
            " 67%|██████▋   | 223/333 [13:03<06:24,  3.49s/it]"
          ]
        },
        {
          "name": "stdout",
          "output_type": "stream",
          "text": [
            "content/f24-23-2022-2301914-eventdetails.xml\n"
          ]
        },
        {
          "name": "stderr",
          "output_type": "stream",
          "text": [
            " 67%|██████▋   | 224/333 [13:06<06:13,  3.43s/it]"
          ]
        },
        {
          "name": "stdout",
          "output_type": "stream",
          "text": [
            "content/f24-23-2022-2301813-eventdetails.xml\n"
          ]
        },
        {
          "name": "stderr",
          "output_type": "stream",
          "text": [
            " 68%|██████▊   | 225/333 [13:09<06:04,  3.38s/it]"
          ]
        },
        {
          "name": "stdout",
          "output_type": "stream",
          "text": [
            "content/f24-23-2022-2301629-eventdetails.xml\n"
          ]
        },
        {
          "name": "stderr",
          "output_type": "stream",
          "text": [
            " 68%|██████▊   | 226/333 [13:13<06:04,  3.40s/it]"
          ]
        },
        {
          "name": "stdout",
          "output_type": "stream",
          "text": [
            "content/f24-23-2022-2301617-eventdetails.xml\n"
          ]
        },
        {
          "name": "stderr",
          "output_type": "stream",
          "text": [
            " 68%|██████▊   | 227/333 [13:17<06:09,  3.49s/it]"
          ]
        },
        {
          "name": "stdout",
          "output_type": "stream",
          "text": [
            "content/f24-23-2022-2301710-eventdetails.xml\n"
          ]
        },
        {
          "name": "stderr",
          "output_type": "stream",
          "text": [
            " 68%|██████▊   | 228/333 [13:20<06:15,  3.57s/it]"
          ]
        },
        {
          "name": "stdout",
          "output_type": "stream",
          "text": [
            "content/f24-23-2022-2301862-eventdetails.xml\n"
          ]
        },
        {
          "name": "stderr",
          "output_type": "stream",
          "text": [
            " 69%|██████▉   | 229/333 [13:25<06:35,  3.81s/it]"
          ]
        },
        {
          "name": "stdout",
          "output_type": "stream",
          "text": [
            "content/f24-23-2022-2301884-eventdetails.xml\n"
          ]
        },
        {
          "name": "stderr",
          "output_type": "stream",
          "text": [
            " 69%|██████▉   | 230/333 [13:28<06:21,  3.71s/it]"
          ]
        },
        {
          "name": "stdout",
          "output_type": "stream",
          "text": [
            "content/f24-23-2022-2301787-eventdetails.xml\n"
          ]
        },
        {
          "name": "stderr",
          "output_type": "stream",
          "text": [
            " 69%|██████▉   | 231/333 [13:33<06:57,  4.09s/it]"
          ]
        },
        {
          "name": "stdout",
          "output_type": "stream",
          "text": [
            "content/f24-23-2022-2301761-eventdetails.xml\n"
          ]
        },
        {
          "name": "stderr",
          "output_type": "stream",
          "text": [
            " 70%|██████▉   | 232/333 [13:39<07:46,  4.61s/it]"
          ]
        },
        {
          "name": "stdout",
          "output_type": "stream",
          "text": [
            "content/f24-23-2022-2301666-eventdetails.xml\n"
          ]
        },
        {
          "name": "stderr",
          "output_type": "stream",
          "text": [
            " 70%|██████▉   | 233/333 [13:44<07:42,  4.63s/it]"
          ]
        },
        {
          "name": "stdout",
          "output_type": "stream",
          "text": [
            "content/f24-23-2022-2301658-eventdetails.xml\n"
          ]
        },
        {
          "name": "stderr",
          "output_type": "stream",
          "text": [
            " 70%|███████   | 234/333 [13:49<07:47,  4.72s/it]"
          ]
        },
        {
          "name": "stdout",
          "output_type": "stream",
          "text": [
            "content/f24-23-2022-2301680-eventdetails.xml\n"
          ]
        },
        {
          "name": "stderr",
          "output_type": "stream",
          "text": [
            " 71%|███████   | 235/333 [13:53<07:41,  4.71s/it]"
          ]
        },
        {
          "name": "stdout",
          "output_type": "stream",
          "text": [
            "content/f24-23-2022-2301704-eventdetails.xml\n"
          ]
        },
        {
          "name": "stderr",
          "output_type": "stream",
          "text": [
            " 71%|███████   | 236/333 [13:58<07:38,  4.73s/it]"
          ]
        },
        {
          "name": "stdout",
          "output_type": "stream",
          "text": [
            "content/f24-23-2022-2301603-eventdetails.xml\n"
          ]
        },
        {
          "name": "stderr",
          "output_type": "stream",
          "text": [
            " 71%|███████   | 237/333 [14:03<07:28,  4.67s/it]"
          ]
        },
        {
          "name": "stdout",
          "output_type": "stream",
          "text": [
            "content/f24-23-2022-2301807-eventdetails.xml\n"
          ]
        },
        {
          "name": "stderr",
          "output_type": "stream",
          "text": [
            " 71%|███████▏  | 238/333 [14:08<07:31,  4.75s/it]"
          ]
        },
        {
          "name": "stdout",
          "output_type": "stream",
          "text": [
            "content/f24-23-2022-2301839-eventdetails.xml\n"
          ]
        },
        {
          "name": "stderr",
          "output_type": "stream",
          "text": [
            " 72%|███████▏  | 239/333 [14:13<07:33,  4.83s/it]"
          ]
        },
        {
          "name": "stdout",
          "output_type": "stream",
          "text": [
            "content/f24-23-2022-2301900-eventdetails.xml\n"
          ]
        },
        {
          "name": "stderr",
          "output_type": "stream",
          "text": [
            " 72%|███████▏  | 240/333 [14:16<07:00,  4.52s/it]"
          ]
        },
        {
          "name": "stdout",
          "output_type": "stream",
          "text": [
            "content/f24-23-2022-2301818-eventdetails.xml\n"
          ]
        },
        {
          "name": "stderr",
          "output_type": "stream",
          "text": [
            " 72%|███████▏  | 241/333 [14:21<06:52,  4.48s/it]"
          ]
        },
        {
          "name": "stdout",
          "output_type": "stream",
          "text": [
            "content/f24-23-2022-2301826-eventdetails.xml\n"
          ]
        },
        {
          "name": "stderr",
          "output_type": "stream",
          "text": [
            " 73%|███████▎  | 242/333 [14:24<06:26,  4.24s/it]"
          ]
        },
        {
          "name": "stdout",
          "output_type": "stream",
          "text": [
            "content/f24-23-2022-2301622-eventdetails.xml\n"
          ]
        },
        {
          "name": "stderr",
          "output_type": "stream",
          "text": [
            " 73%|███████▎  | 243/333 [14:28<05:53,  3.92s/it]"
          ]
        },
        {
          "name": "stdout",
          "output_type": "stream",
          "text": [
            "content/f24-23-2022-2301725-eventdetails.xml\n"
          ]
        },
        {
          "name": "stderr",
          "output_type": "stream",
          "text": [
            " 73%|███████▎  | 244/333 [14:31<05:35,  3.77s/it]"
          ]
        },
        {
          "name": "stdout",
          "output_type": "stream",
          "text": [
            "content/f24-23-2022-2301679-eventdetails.xml\n"
          ]
        },
        {
          "name": "stderr",
          "output_type": "stream",
          "text": [
            " 74%|███████▎  | 245/333 [14:35<05:26,  3.71s/it]"
          ]
        },
        {
          "name": "stdout",
          "output_type": "stream",
          "text": [
            "content/f24-23-2022-2301647-eventdetails.xml\n"
          ]
        },
        {
          "name": "stderr",
          "output_type": "stream",
          "text": [
            " 74%|███████▍  | 246/333 [14:38<05:08,  3.54s/it]"
          ]
        },
        {
          "name": "stdout",
          "output_type": "stream",
          "text": [
            "content/f24-23-2022-2301798-eventdetails.xml\n"
          ]
        },
        {
          "name": "stderr",
          "output_type": "stream",
          "text": [
            " 74%|███████▍  | 247/333 [14:41<05:07,  3.57s/it]"
          ]
        },
        {
          "name": "stdout",
          "output_type": "stream",
          "text": [
            "content/f24-23-2022-2301740-eventdetails.xml\n"
          ]
        },
        {
          "name": "stderr",
          "output_type": "stream",
          "text": [
            " 74%|███████▍  | 248/333 [14:45<04:54,  3.46s/it]"
          ]
        },
        {
          "name": "stdout",
          "output_type": "stream",
          "text": [
            "content/f24-23-2022-2301843-eventdetails.xml\n"
          ]
        },
        {
          "name": "stderr",
          "output_type": "stream",
          "text": [
            " 75%|███████▍  | 249/333 [14:48<04:48,  3.43s/it]"
          ]
        },
        {
          "name": "stdout",
          "output_type": "stream",
          "text": [
            "content/f24-23-2022-2301606-eventdetails.xml\n"
          ]
        },
        {
          "name": "stderr",
          "output_type": "stream",
          "text": [
            " 75%|███████▌  | 250/333 [14:51<04:42,  3.40s/it]"
          ]
        },
        {
          "name": "stdout",
          "output_type": "stream",
          "text": [
            "content/f24-23-2022-2301638-eventdetails.xml\n"
          ]
        },
        {
          "name": "stderr",
          "output_type": "stream",
          "text": [
            " 75%|███████▌  | 251/333 [14:55<04:39,  3.41s/it]"
          ]
        },
        {
          "name": "stdout",
          "output_type": "stream",
          "text": [
            "content/f24-23-2022-2301701-eventdetails.xml\n"
          ]
        },
        {
          "name": "stderr",
          "output_type": "stream",
          "text": [
            " 76%|███████▌  | 252/333 [14:58<04:35,  3.40s/it]"
          ]
        },
        {
          "name": "stdout",
          "output_type": "stream",
          "text": [
            "content/f24-23-2022-2301905-eventdetails.xml\n"
          ]
        },
        {
          "name": "stderr",
          "output_type": "stream",
          "text": [
            " 76%|███████▌  | 253/333 [15:02<04:32,  3.40s/it]"
          ]
        },
        {
          "name": "stdout",
          "output_type": "stream",
          "text": [
            "content/f24-23-2022-2301802-eventdetails.xml\n"
          ]
        },
        {
          "name": "stderr",
          "output_type": "stream",
          "text": [
            " 76%|███████▋  | 254/333 [15:05<04:31,  3.43s/it]"
          ]
        },
        {
          "name": "stdout",
          "output_type": "stream",
          "text": [
            "content/f24-23-2022-2301881-eventdetails.xml\n"
          ]
        },
        {
          "name": "stderr",
          "output_type": "stream",
          "text": [
            " 77%|███████▋  | 255/333 [15:08<04:25,  3.41s/it]"
          ]
        },
        {
          "name": "stdout",
          "output_type": "stream",
          "text": [
            "content/f24-23-2022-2301867-eventdetails.xml\n"
          ]
        },
        {
          "name": "stderr",
          "output_type": "stream",
          "text": [
            " 77%|███████▋  | 256/333 [15:12<04:21,  3.40s/it]"
          ]
        },
        {
          "name": "stdout",
          "output_type": "stream",
          "text": [
            "content/f24-23-2022-2301859-eventdetails.xml\n"
          ]
        },
        {
          "name": "stderr",
          "output_type": "stream",
          "text": [
            " 77%|███████▋  | 257/333 [15:15<04:15,  3.37s/it]"
          ]
        },
        {
          "name": "stdout",
          "output_type": "stream",
          "text": [
            "content/f24-23-2022-2301685-eventdetails.xml\n"
          ]
        },
        {
          "name": "stderr",
          "output_type": "stream",
          "text": [
            " 77%|███████▋  | 258/333 [15:18<04:06,  3.28s/it]"
          ]
        },
        {
          "name": "stdout",
          "output_type": "stream",
          "text": [
            "content/f24-23-2022-2301663-eventdetails.xml\n"
          ]
        },
        {
          "name": "stderr",
          "output_type": "stream",
          "text": [
            " 78%|███████▊  | 259/333 [15:21<04:03,  3.28s/it]"
          ]
        },
        {
          "name": "stdout",
          "output_type": "stream",
          "text": [
            "content/f24-23-2022-2301764-eventdetails.xml\n"
          ]
        },
        {
          "name": "stderr",
          "output_type": "stream",
          "text": [
            " 78%|███████▊  | 260/333 [15:25<03:57,  3.25s/it]"
          ]
        },
        {
          "name": "stdout",
          "output_type": "stream",
          "text": [
            "content/f24-23-2022-2301782-eventdetails.xml\n"
          ]
        },
        {
          "name": "stderr",
          "output_type": "stream",
          "text": [
            " 78%|███████▊  | 261/333 [15:28<03:53,  3.24s/it]"
          ]
        },
        {
          "name": "stdout",
          "output_type": "stream",
          "text": [
            "content/f24-23-2022-2301745-eventdetails.xml\n"
          ]
        },
        {
          "name": "stderr",
          "output_type": "stream",
          "text": [
            " 79%|███████▊  | 262/333 [15:31<03:50,  3.25s/it]"
          ]
        },
        {
          "name": "stdout",
          "output_type": "stream",
          "text": [
            "content/f24-23-2022-2301642-eventdetails.xml\n"
          ]
        },
        {
          "name": "stderr",
          "output_type": "stream",
          "text": [
            " 79%|███████▉  | 263/333 [15:34<03:47,  3.25s/it]"
          ]
        },
        {
          "name": "stdout",
          "output_type": "stream",
          "text": [
            "content/f24-23-2022-2301878-eventdetails.xml\n"
          ]
        },
        {
          "name": "stderr",
          "output_type": "stream",
          "text": [
            " 79%|███████▉  | 264/333 [15:37<03:41,  3.22s/it]"
          ]
        },
        {
          "name": "stdout",
          "output_type": "stream",
          "text": [
            "content/f24-23-2022-2301846-eventdetails.xml\n"
          ]
        },
        {
          "name": "stderr",
          "output_type": "stream",
          "text": [
            " 80%|███████▉  | 265/333 [15:41<03:40,  3.25s/it]"
          ]
        },
        {
          "name": "stdout",
          "output_type": "stream",
          "text": [
            "content/f24-23-2022-2301823-eventdetails.xml\n"
          ]
        },
        {
          "name": "stderr",
          "output_type": "stream",
          "text": [
            " 80%|███████▉  | 266/333 [15:44<03:40,  3.29s/it]"
          ]
        },
        {
          "name": "stdout",
          "output_type": "stream",
          "text": [
            "content/f24-23-2022-2301720-eventdetails.xml\n"
          ]
        },
        {
          "name": "stderr",
          "output_type": "stream",
          "text": [
            " 80%|████████  | 267/333 [15:48<03:39,  3.33s/it]"
          ]
        },
        {
          "name": "stdout",
          "output_type": "stream",
          "text": [
            "content/f24-23-2022-2301619-eventdetails.xml\n"
          ]
        },
        {
          "name": "stderr",
          "output_type": "stream",
          "text": [
            " 80%|████████  | 268/333 [15:51<03:40,  3.39s/it]"
          ]
        },
        {
          "name": "stdout",
          "output_type": "stream",
          "text": [
            "content/f24-23-2022-2301627-eventdetails.xml\n"
          ]
        },
        {
          "name": "stderr",
          "output_type": "stream",
          "text": [
            " 81%|████████  | 269/333 [15:55<03:44,  3.50s/it]"
          ]
        },
        {
          "name": "stdout",
          "output_type": "stream",
          "text": [
            "content/f24-23-2022-2301852-eventdetails.xml\n"
          ]
        },
        {
          "name": "stderr",
          "output_type": "stream",
          "text": [
            " 81%|████████  | 270/333 [15:58<03:36,  3.44s/it]"
          ]
        },
        {
          "name": "stdout",
          "output_type": "stream",
          "text": [
            "content/f24-23-2022-2301656-eventdetails.xml\n"
          ]
        },
        {
          "name": "stderr",
          "output_type": "stream",
          "text": [
            " 81%|████████▏ | 271/333 [16:01<03:25,  3.32s/it]"
          ]
        },
        {
          "name": "stdout",
          "output_type": "stream",
          "text": [
            "content/f24-23-2022-2301668-eventdetails.xml\n"
          ]
        },
        {
          "name": "stderr",
          "output_type": "stream",
          "text": [
            " 82%|████████▏ | 272/333 [16:05<03:24,  3.35s/it]"
          ]
        },
        {
          "name": "stdout",
          "output_type": "stream",
          "text": [
            "content/f24-23-2022-2301789-eventdetails.xml\n"
          ]
        },
        {
          "name": "stderr",
          "output_type": "stream",
          "text": [
            " 82%|████████▏ | 273/333 [16:08<03:20,  3.34s/it]"
          ]
        },
        {
          "name": "stdout",
          "output_type": "stream",
          "text": [
            "content/f24-23-2022-2301751-eventdetails.xml\n"
          ]
        },
        {
          "name": "stderr",
          "output_type": "stream",
          "text": [
            " 82%|████████▏ | 274/333 [16:11<03:18,  3.36s/it]"
          ]
        },
        {
          "name": "stdout",
          "output_type": "stream",
          "text": [
            "content/f24-23-2022-2301633-eventdetails.xml\n"
          ]
        },
        {
          "name": "stderr",
          "output_type": "stream",
          "text": [
            " 83%|████████▎ | 275/333 [16:15<03:14,  3.35s/it]"
          ]
        },
        {
          "name": "stdout",
          "output_type": "stream",
          "text": [
            "content/f24-23-2022-2301734-eventdetails.xml\n"
          ]
        },
        {
          "name": "stderr",
          "output_type": "stream",
          "text": [
            " 83%|████████▎ | 276/333 [16:18<03:10,  3.34s/it]"
          ]
        },
        {
          "name": "stdout",
          "output_type": "stream",
          "text": [
            "content/f24-23-2022-2301837-eventdetails.xml\n"
          ]
        },
        {
          "name": "stderr",
          "output_type": "stream",
          "text": [
            " 83%|████████▎ | 277/333 [16:21<03:09,  3.38s/it]"
          ]
        },
        {
          "name": "stdout",
          "output_type": "stream",
          "text": [
            "content/f24-23-2022-2301809-eventdetails.xml\n"
          ]
        },
        {
          "name": "stderr",
          "output_type": "stream",
          "text": [
            " 83%|████████▎ | 278/333 [16:25<03:03,  3.34s/it]"
          ]
        },
        {
          "name": "stdout",
          "output_type": "stream",
          "text": [
            "content/f24-23-2022-2301828-eventdetails.xml\n"
          ]
        },
        {
          "name": "stderr",
          "output_type": "stream",
          "text": [
            " 84%|████████▍ | 279/333 [16:28<02:55,  3.25s/it]"
          ]
        },
        {
          "name": "stdout",
          "output_type": "stream",
          "text": [
            "content/f24-23-2022-2301816-eventdetails.xml\n"
          ]
        },
        {
          "name": "stderr",
          "output_type": "stream",
          "text": [
            " 84%|████████▍ | 280/333 [16:31<02:49,  3.20s/it]"
          ]
        },
        {
          "name": "stdout",
          "output_type": "stream",
          "text": [
            "content/f24-23-2022-2301911-eventdetails.xml\n"
          ]
        },
        {
          "name": "stderr",
          "output_type": "stream",
          "text": [
            " 84%|████████▍ | 281/333 [16:34<02:48,  3.25s/it]"
          ]
        },
        {
          "name": "stdout",
          "output_type": "stream",
          "text": [
            "content/f24-23-2022-2301715-eventdetails.xml\n"
          ]
        },
        {
          "name": "stderr",
          "output_type": "stream",
          "text": [
            " 85%|████████▍ | 282/333 [16:37<02:45,  3.24s/it]"
          ]
        },
        {
          "name": "stdout",
          "output_type": "stream",
          "text": [
            "content/f24-23-2022-2301612-eventdetails.xml\n"
          ]
        },
        {
          "name": "stderr",
          "output_type": "stream",
          "text": [
            " 85%|████████▍ | 283/333 [16:41<02:39,  3.19s/it]"
          ]
        },
        {
          "name": "stdout",
          "output_type": "stream",
          "text": [
            "content/f24-23-2022-2301595-eventdetails.xml\n"
          ]
        },
        {
          "name": "stderr",
          "output_type": "stream",
          "text": [
            " 85%|████████▌ | 284/333 [16:44<02:36,  3.19s/it]"
          ]
        },
        {
          "name": "stdout",
          "output_type": "stream",
          "text": [
            "content/f24-23-2022-2301796-eventdetails.xml\n"
          ]
        },
        {
          "name": "stderr",
          "output_type": "stream",
          "text": [
            " 86%|████████▌ | 285/333 [16:47<02:31,  3.15s/it]"
          ]
        },
        {
          "name": "stdout",
          "output_type": "stream",
          "text": [
            "content/f24-23-2022-2301770-eventdetails.xml\n"
          ]
        },
        {
          "name": "stderr",
          "output_type": "stream",
          "text": [
            " 86%|████████▌ | 286/333 [16:50<02:30,  3.20s/it]"
          ]
        },
        {
          "name": "stdout",
          "output_type": "stream",
          "text": [
            "content/f24-23-2022-2301649-eventdetails.xml\n"
          ]
        },
        {
          "name": "stderr",
          "output_type": "stream",
          "text": [
            " 86%|████████▌ | 287/333 [16:53<02:24,  3.14s/it]"
          ]
        },
        {
          "name": "stdout",
          "output_type": "stream",
          "text": [
            "content/f24-23-2022-2301677-eventdetails.xml\n"
          ]
        },
        {
          "name": "stderr",
          "output_type": "stream",
          "text": [
            " 86%|████████▋ | 288/333 [16:57<02:28,  3.29s/it]"
          ]
        },
        {
          "name": "stdout",
          "output_type": "stream",
          "text": [
            "content/f24-23-2022-2301691-eventdetails.xml\n"
          ]
        },
        {
          "name": "stderr",
          "output_type": "stream",
          "text": [
            " 87%|████████▋ | 289/333 [17:01<02:37,  3.58s/it]"
          ]
        },
        {
          "name": "stdout",
          "output_type": "stream",
          "text": [
            "content/f24-23-2022-2301873-eventdetails.xml\n"
          ]
        },
        {
          "name": "stderr",
          "output_type": "stream",
          "text": [
            " 87%|████████▋ | 290/333 [17:05<02:43,  3.79s/it]"
          ]
        },
        {
          "name": "stdout",
          "output_type": "stream",
          "text": [
            "content/f24-23-2022-2301895-eventdetails.xml\n"
          ]
        },
        {
          "name": "stderr",
          "output_type": "stream",
          "text": [
            " 87%|████████▋ | 291/333 [17:09<02:44,  3.91s/it]"
          ]
        },
        {
          "name": "stdout",
          "output_type": "stream",
          "text": [
            "content/f24-23-2022-2301628-eventdetails.xml\n"
          ]
        },
        {
          "name": "stderr",
          "output_type": "stream",
          "text": [
            " 88%|████████▊ | 292/333 [17:13<02:38,  3.85s/it]"
          ]
        },
        {
          "name": "stdout",
          "output_type": "stream",
          "text": [
            "content/f24-23-2022-2301616-eventdetails.xml\n"
          ]
        },
        {
          "name": "stderr",
          "output_type": "stream",
          "text": [
            " 88%|████████▊ | 293/333 [17:17<02:31,  3.78s/it]"
          ]
        },
        {
          "name": "stdout",
          "output_type": "stream",
          "text": [
            "content/f24-23-2022-2301711-eventdetails.xml\n"
          ]
        },
        {
          "name": "stderr",
          "output_type": "stream",
          "text": [
            " 88%|████████▊ | 294/333 [17:20<02:20,  3.61s/it]"
          ]
        },
        {
          "name": "stdout",
          "output_type": "stream",
          "text": [
            "content/f24-23-2022-2301915-eventdetails.xml\n"
          ]
        },
        {
          "name": "stderr",
          "output_type": "stream",
          "text": [
            " 89%|████████▊ | 295/333 [17:23<02:12,  3.50s/it]"
          ]
        },
        {
          "name": "stdout",
          "output_type": "stream",
          "text": [
            "content/f24-23-2022-2301812-eventdetails.xml\n"
          ]
        },
        {
          "name": "stderr",
          "output_type": "stream",
          "text": [
            " 89%|████████▉ | 296/333 [17:27<02:09,  3.50s/it]"
          ]
        },
        {
          "name": "stdout",
          "output_type": "stream",
          "text": [
            "content/f24-23-2022-2301849-eventdetails.xml\n"
          ]
        },
        {
          "name": "stderr",
          "output_type": "stream",
          "text": [
            " 89%|████████▉ | 297/333 [17:30<01:59,  3.32s/it]"
          ]
        },
        {
          "name": "stdout",
          "output_type": "stream",
          "text": [
            "content/f24-23-2022-2301877-eventdetails.xml\n"
          ]
        },
        {
          "name": "stderr",
          "output_type": "stream",
          "text": [
            " 89%|████████▉ | 298/333 [17:33<01:54,  3.27s/it]"
          ]
        },
        {
          "name": "stdout",
          "output_type": "stream",
          "text": [
            "content/f24-23-2022-2301891-eventdetails.xml\n"
          ]
        },
        {
          "name": "stderr",
          "output_type": "stream",
          "text": [
            " 90%|████████▉ | 299/333 [17:36<01:50,  3.24s/it]"
          ]
        },
        {
          "name": "stdout",
          "output_type": "stream",
          "text": [
            "content/f24-23-2022-2301673-eventdetails.xml\n"
          ]
        },
        {
          "name": "stderr",
          "output_type": "stream",
          "text": [
            " 90%|█████████ | 300/333 [17:39<01:48,  3.29s/it]"
          ]
        },
        {
          "name": "stdout",
          "output_type": "stream",
          "text": [
            "content/f24-23-2022-2301695-eventdetails.xml\n"
          ]
        },
        {
          "name": "stderr",
          "output_type": "stream",
          "text": [
            " 90%|█████████ | 301/333 [17:43<01:44,  3.26s/it]"
          ]
        },
        {
          "name": "stdout",
          "output_type": "stream",
          "text": [
            "content/f24-23-2022-2301792-eventdetails.xml\n"
          ]
        },
        {
          "name": "stderr",
          "output_type": "stream",
          "text": [
            " 91%|█████████ | 302/333 [17:46<01:43,  3.34s/it]"
          ]
        },
        {
          "name": "stdout",
          "output_type": "stream",
          "text": [
            "content/f24-23-2022-2301591-eventdetails.xml\n"
          ]
        },
        {
          "name": "stderr",
          "output_type": "stream",
          "text": [
            " 91%|█████████ | 303/333 [17:49<01:40,  3.35s/it]"
          ]
        },
        {
          "name": "stdout",
          "output_type": "stream",
          "text": [
            "content/f24-23-2022-2301774-eventdetails.xml\n"
          ]
        },
        {
          "name": "stderr",
          "output_type": "stream",
          "text": [
            " 91%|█████████▏| 304/333 [17:53<01:38,  3.38s/it]"
          ]
        },
        {
          "name": "stdout",
          "output_type": "stream",
          "text": [
            "content/f24-23-2022-2301755-eventdetails.xml\n"
          ]
        },
        {
          "name": "stderr",
          "output_type": "stream",
          "text": [
            " 92%|█████████▏| 305/333 [17:57<01:37,  3.48s/it]"
          ]
        },
        {
          "name": "stdout",
          "output_type": "stream",
          "text": [
            "content/f24-23-2022-2301652-eventdetails.xml\n"
          ]
        },
        {
          "name": "stderr",
          "output_type": "stream",
          "text": [
            " 92%|█████████▏| 306/333 [18:03<01:53,  4.21s/it]"
          ]
        },
        {
          "name": "stdout",
          "output_type": "stream",
          "text": [
            "content/f24-23-2022-2301856-eventdetails.xml\n"
          ]
        },
        {
          "name": "stderr",
          "output_type": "stream",
          "text": [
            " 92%|█████████▏| 307/333 [18:08<01:57,  4.52s/it]"
          ]
        },
        {
          "name": "stdout",
          "output_type": "stream",
          "text": [
            "content/f24-23-2022-2301868-eventdetails.xml\n"
          ]
        },
        {
          "name": "stderr",
          "output_type": "stream",
          "text": [
            " 92%|█████████▏| 308/333 [18:11<01:43,  4.16s/it]"
          ]
        },
        {
          "name": "stdout",
          "output_type": "stream",
          "text": [
            "content/f24-23-2022-2301833-eventdetails.xml\n"
          ]
        },
        {
          "name": "stderr",
          "output_type": "stream",
          "text": [
            " 93%|█████████▎| 309/333 [18:15<01:36,  4.01s/it]"
          ]
        },
        {
          "name": "stdout",
          "output_type": "stream",
          "text": [
            "content/f24-23-2022-2301730-eventdetails.xml\n"
          ]
        },
        {
          "name": "stderr",
          "output_type": "stream",
          "text": [
            " 93%|█████████▎| 310/333 [18:18<01:28,  3.83s/it]"
          ]
        },
        {
          "name": "stdout",
          "output_type": "stream",
          "text": [
            "content/f24-23-2022-2301637-eventdetails.xml\n"
          ]
        },
        {
          "name": "stderr",
          "output_type": "stream",
          "text": [
            " 93%|█████████▎| 311/333 [18:22<01:21,  3.71s/it]"
          ]
        },
        {
          "name": "stdout",
          "output_type": "stream",
          "text": [
            "content/f24-23-2022-2301609-eventdetails.xml\n"
          ]
        },
        {
          "name": "stderr",
          "output_type": "stream",
          "text": [
            " 94%|█████████▎| 312/333 [18:25<01:14,  3.57s/it]"
          ]
        },
        {
          "name": "stdout",
          "output_type": "stream",
          "text": [
            "content/f24-23-2022-2301842-eventdetails.xml\n"
          ]
        },
        {
          "name": "stderr",
          "output_type": "stream",
          "text": [
            " 94%|█████████▍| 313/333 [18:28<01:07,  3.39s/it]"
          ]
        },
        {
          "name": "stdout",
          "output_type": "stream",
          "text": [
            "content/f24-23-2022-2301678-eventdetails.xml\n"
          ]
        },
        {
          "name": "stderr",
          "output_type": "stream",
          "text": [
            " 94%|█████████▍| 314/333 [18:31<01:04,  3.37s/it]"
          ]
        },
        {
          "name": "stdout",
          "output_type": "stream",
          "text": [
            "content/f24-23-2022-2301646-eventdetails.xml\n"
          ]
        },
        {
          "name": "stderr",
          "output_type": "stream",
          "text": [
            " 95%|█████████▍| 315/333 [18:34<00:57,  3.21s/it]"
          ]
        },
        {
          "name": "stdout",
          "output_type": "stream",
          "text": [
            "content/f24-23-2022-2301741-eventdetails.xml\n"
          ]
        },
        {
          "name": "stderr",
          "output_type": "stream",
          "text": [
            " 95%|█████████▍| 316/333 [18:37<00:54,  3.18s/it]"
          ]
        },
        {
          "name": "stdout",
          "output_type": "stream",
          "text": [
            "content/f24-23-2022-2301799-eventdetails.xml\n"
          ]
        },
        {
          "name": "stderr",
          "output_type": "stream",
          "text": [
            " 95%|█████████▌| 317/333 [18:40<00:50,  3.17s/it]"
          ]
        },
        {
          "name": "stdout",
          "output_type": "stream",
          "text": [
            "content/f24-23-2022-2301623-eventdetails.xml\n"
          ]
        },
        {
          "name": "stderr",
          "output_type": "stream",
          "text": [
            " 95%|█████████▌| 318/333 [18:43<00:46,  3.12s/it]"
          ]
        },
        {
          "name": "stdout",
          "output_type": "stream",
          "text": [
            "content/f24-23-2022-2301724-eventdetails.xml\n"
          ]
        },
        {
          "name": "stderr",
          "output_type": "stream",
          "text": [
            " 96%|█████████▌| 319/333 [18:46<00:44,  3.15s/it]"
          ]
        },
        {
          "name": "stdout",
          "output_type": "stream",
          "text": [
            "content/f24-23-2022-2301819-eventdetails.xml\n"
          ]
        },
        {
          "name": "stderr",
          "output_type": "stream",
          "text": [
            " 96%|█████████▌| 320/333 [18:50<00:41,  3.22s/it]"
          ]
        },
        {
          "name": "stdout",
          "output_type": "stream",
          "text": [
            "content/f24-23-2022-2301827-eventdetails.xml\n"
          ]
        },
        {
          "name": "stderr",
          "output_type": "stream",
          "text": [
            " 96%|█████████▋| 321/333 [18:54<00:41,  3.45s/it]"
          ]
        },
        {
          "name": "stdout",
          "output_type": "stream",
          "text": [
            "content/f24-23-2022-2301806-eventdetails.xml\n"
          ]
        },
        {
          "name": "stderr",
          "output_type": "stream",
          "text": [
            " 97%|█████████▋| 322/333 [18:57<00:38,  3.49s/it]"
          ]
        },
        {
          "name": "stdout",
          "output_type": "stream",
          "text": [
            "content/f24-23-2022-2301838-eventdetails.xml\n"
          ]
        },
        {
          "name": "stderr",
          "output_type": "stream",
          "text": [
            " 97%|█████████▋| 323/333 [19:01<00:34,  3.49s/it]"
          ]
        },
        {
          "name": "stdout",
          "output_type": "stream",
          "text": [
            "content/f24-23-2022-2301901-eventdetails.xml\n"
          ]
        },
        {
          "name": "stderr",
          "output_type": "stream",
          "text": [
            " 97%|█████████▋| 324/333 [19:04<00:30,  3.39s/it]"
          ]
        },
        {
          "name": "stdout",
          "output_type": "stream",
          "text": [
            "content/f24-23-2022-2301705-eventdetails.xml\n"
          ]
        },
        {
          "name": "stderr",
          "output_type": "stream",
          "text": [
            " 98%|█████████▊| 325/333 [19:08<00:28,  3.62s/it]"
          ]
        },
        {
          "name": "stdout",
          "output_type": "stream",
          "text": [
            "content/f24-23-2022-2301602-eventdetails.xml\n"
          ]
        },
        {
          "name": "stderr",
          "output_type": "stream",
          "text": [
            " 98%|█████████▊| 326/333 [19:12<00:25,  3.59s/it]"
          ]
        },
        {
          "name": "stdout",
          "output_type": "stream",
          "text": [
            "content/f24-23-2022-2301760-eventdetails.xml\n"
          ]
        },
        {
          "name": "stderr",
          "output_type": "stream",
          "text": [
            " 98%|█████████▊| 327/333 [19:15<00:21,  3.51s/it]"
          ]
        },
        {
          "name": "stdout",
          "output_type": "stream",
          "text": [
            "content/f24-23-2022-2301786-eventdetails.xml\n"
          ]
        },
        {
          "name": "stderr",
          "output_type": "stream",
          "text": [
            " 98%|█████████▊| 328/333 [19:19<00:17,  3.49s/it]"
          ]
        },
        {
          "name": "stdout",
          "output_type": "stream",
          "text": [
            "content/f24-23-2022-2301681-eventdetails.xml\n"
          ]
        },
        {
          "name": "stderr",
          "output_type": "stream",
          "text": [
            " 99%|█████████▉| 329/333 [19:21<00:12,  3.24s/it]"
          ]
        },
        {
          "name": "stdout",
          "output_type": "stream",
          "text": [
            "content/f24-23-2022-2301667-eventdetails.xml\n"
          ]
        },
        {
          "name": "stderr",
          "output_type": "stream",
          "text": [
            " 99%|█████████▉| 330/333 [19:25<00:10,  3.35s/it]"
          ]
        },
        {
          "name": "stdout",
          "output_type": "stream",
          "text": [
            "content/f24-23-2022-2301659-eventdetails.xml\n"
          ]
        },
        {
          "name": "stderr",
          "output_type": "stream",
          "text": [
            " 99%|█████████▉| 331/333 [19:28<00:06,  3.20s/it]"
          ]
        },
        {
          "name": "stdout",
          "output_type": "stream",
          "text": [
            "content/f24-23-2022-2301885-eventdetails.xml\n"
          ]
        },
        {
          "name": "stderr",
          "output_type": "stream",
          "text": [
            "100%|█████████▉| 332/333 [19:31<00:03,  3.18s/it]"
          ]
        },
        {
          "name": "stdout",
          "output_type": "stream",
          "text": [
            "content/f24-23-2022-2301863-eventdetails.xml\n"
          ]
        },
        {
          "name": "stderr",
          "output_type": "stream",
          "text": [
            "100%|██████████| 333/333 [19:34<00:00,  3.53s/it]"
          ]
        },
        {
          "name": "stdout",
          "output_type": "stream",
          "text": [
            "<class 'pandas.core.frame.DataFrame'>\n",
            "Index: 24522 entries, 0 to 24660\n",
            "Data columns (total 2 columns):\n",
            " #   Column         Non-Null Count  Dtype \n",
            "---  ------         --------------  ----- \n",
            " 0   team_name      24522 non-null  object\n",
            " 1   recovery_time  24522 non-null  object\n",
            "dtypes: object(2)\n",
            "memory usage: 574.7+ KB\n"
          ]
        },
        {
          "name": "stderr",
          "output_type": "stream",
          "text": [
            "\n"
          ]
        }
      ],
      "source": [
        "basepath = \"content/\"\n",
        "\n",
        "# iterate through\n",
        "for file in tqdm(os.listdir(basepath)):\n",
        "    print(basepath + file)\n",
        "    parsef24(basepath + file)\n",
        "    ball_recoveries = clean_data()\n",
        "    teams_df = recovery_time_calculation(ball_recoveries,teams_df)\n",
        "    \n",
        "\n",
        "# Remove any negative values in our data\n",
        "teams_df = teams_df[teams_df['recovery_time'] >= 0]   \n",
        "teams_df.info()"
      ]
    },
    {
      "cell_type": "markdown",
      "metadata": {},
      "source": [
        "Now we group the dataframe by teams and by their average recovery time\n",
        "We sort by descending recovery times."
      ]
    },
    {
      "cell_type": "code",
      "execution_count": 15,
      "metadata": {},
      "outputs": [
        {
          "data": {
            "text/html": [
              "<div>\n",
              "<style scoped>\n",
              "    .dataframe tbody tr th:only-of-type {\n",
              "        vertical-align: middle;\n",
              "    }\n",
              "\n",
              "    .dataframe tbody tr th {\n",
              "        vertical-align: top;\n",
              "    }\n",
              "\n",
              "    .dataframe thead th {\n",
              "        text-align: right;\n",
              "    }\n",
              "</style>\n",
              "<table border=\"1\" class=\"dataframe\">\n",
              "  <thead>\n",
              "    <tr style=\"text-align: right;\">\n",
              "      <th></th>\n",
              "      <th>team_name</th>\n",
              "      <th>recovery_time</th>\n",
              "    </tr>\n",
              "  </thead>\n",
              "  <tbody>\n",
              "    <tr>\n",
              "      <th>0</th>\n",
              "      <td>Athletic Club</td>\n",
              "      <td>64.6</td>\n",
              "    </tr>\n",
              "    <tr>\n",
              "      <th>1</th>\n",
              "      <td>Barcelona</td>\n",
              "      <td>67.7</td>\n",
              "    </tr>\n",
              "    <tr>\n",
              "      <th>2</th>\n",
              "      <td>Atlético de Madrid</td>\n",
              "      <td>69.1</td>\n",
              "    </tr>\n",
              "    <tr>\n",
              "      <th>3</th>\n",
              "      <td>Valencia CF</td>\n",
              "      <td>70.6</td>\n",
              "    </tr>\n",
              "    <tr>\n",
              "      <th>4</th>\n",
              "      <td>Celta de Vigo</td>\n",
              "      <td>72.7</td>\n",
              "    </tr>\n",
              "    <tr>\n",
              "      <th>5</th>\n",
              "      <td>Real Madrid</td>\n",
              "      <td>73.8</td>\n",
              "    </tr>\n",
              "    <tr>\n",
              "      <th>6</th>\n",
              "      <td>Sevilla</td>\n",
              "      <td>75.1</td>\n",
              "    </tr>\n",
              "    <tr>\n",
              "      <th>7</th>\n",
              "      <td>Real Sociedad</td>\n",
              "      <td>75.6</td>\n",
              "    </tr>\n",
              "    <tr>\n",
              "      <th>8</th>\n",
              "      <td>Real Valladolid</td>\n",
              "      <td>75.8</td>\n",
              "    </tr>\n",
              "    <tr>\n",
              "      <th>9</th>\n",
              "      <td>Rayo Vallecano</td>\n",
              "      <td>77.6</td>\n",
              "    </tr>\n",
              "    <tr>\n",
              "      <th>10</th>\n",
              "      <td>Real Betis</td>\n",
              "      <td>77.6</td>\n",
              "    </tr>\n",
              "    <tr>\n",
              "      <th>11</th>\n",
              "      <td>Osasuna</td>\n",
              "      <td>78.9</td>\n",
              "    </tr>\n",
              "    <tr>\n",
              "      <th>12</th>\n",
              "      <td>Elche</td>\n",
              "      <td>82.3</td>\n",
              "    </tr>\n",
              "    <tr>\n",
              "      <th>13</th>\n",
              "      <td>Girona</td>\n",
              "      <td>82.4</td>\n",
              "    </tr>\n",
              "    <tr>\n",
              "      <th>14</th>\n",
              "      <td>Villarreal</td>\n",
              "      <td>82.4</td>\n",
              "    </tr>\n",
              "    <tr>\n",
              "      <th>15</th>\n",
              "      <td>Cádiz</td>\n",
              "      <td>83.0</td>\n",
              "    </tr>\n",
              "    <tr>\n",
              "      <th>16</th>\n",
              "      <td>Mallorca</td>\n",
              "      <td>86.1</td>\n",
              "    </tr>\n",
              "    <tr>\n",
              "      <th>17</th>\n",
              "      <td>Almería</td>\n",
              "      <td>86.3</td>\n",
              "    </tr>\n",
              "    <tr>\n",
              "      <th>18</th>\n",
              "      <td>Getafe</td>\n",
              "      <td>87.1</td>\n",
              "    </tr>\n",
              "    <tr>\n",
              "      <th>19</th>\n",
              "      <td>Espanyol</td>\n",
              "      <td>88.9</td>\n",
              "    </tr>\n",
              "  </tbody>\n",
              "</table>\n",
              "</div>"
            ],
            "text/plain": [
              "             team_name  recovery_time\n",
              "0        Athletic Club           64.6\n",
              "1            Barcelona           67.7\n",
              "2   Atlético de Madrid           69.1\n",
              "3          Valencia CF           70.6\n",
              "4        Celta de Vigo           72.7\n",
              "5          Real Madrid           73.8\n",
              "6              Sevilla           75.1\n",
              "7        Real Sociedad           75.6\n",
              "8      Real Valladolid           75.8\n",
              "9       Rayo Vallecano           77.6\n",
              "10          Real Betis           77.6\n",
              "11             Osasuna           78.9\n",
              "12               Elche           82.3\n",
              "13              Girona           82.4\n",
              "14          Villarreal           82.4\n",
              "15               Cádiz           83.0\n",
              "16            Mallorca           86.1\n",
              "17             Almería           86.3\n",
              "18              Getafe           87.1\n",
              "19            Espanyol           88.9"
            ]
          },
          "execution_count": 15,
          "metadata": {},
          "output_type": "execute_result"
        }
      ],
      "source": [
        "# Use the groupby function to find the average recovery time by team\n",
        "final_df = teams_df.groupby('team_name')['recovery_time'].mean()\n",
        "final_df = pd.DataFrame(final_df).sort_values(\"recovery_time\", ascending=True)\n",
        "\n",
        "#Round recovery_time to a single decimal place\n",
        "final_df[\"recovery_time\"] = final_df[\"recovery_time\"].apply(lambda x: round(x, 1))\n",
        "final_df = final_df.reset_index()\n",
        "\n",
        "final_df"
      ]
    }
  ],
  "metadata": {
    "colab": {
      "collapsed_sections": [
        "Gw-4KhKk7io-",
        "MdkM2wYYKu9E"
      ],
      "provenance": []
    },
    "kernelspec": {
      "display_name": "Python 3",
      "name": "python3"
    },
    "language_info": {
      "codemirror_mode": {
        "name": "ipython",
        "version": 3
      },
      "file_extension": ".py",
      "mimetype": "text/x-python",
      "name": "python",
      "nbconvert_exporter": "python",
      "pygments_lexer": "ipython3",
      "version": "3.12.2"
    }
  },
  "nbformat": 4,
  "nbformat_minor": 0
}
